{
 "cells": [
  {
   "cell_type": "code",
   "execution_count": 3,
   "metadata": {
    "pycharm": {
     "name": "#%%\n"
    }
   },
   "outputs": [],
   "source": [
    "# !pip install requests   "
   ]
  },
  {
   "cell_type": "code",
   "execution_count": 4,
   "metadata": {
    "pycharm": {
     "name": "#%%\n"
    }
   },
   "outputs": [],
   "source": [
    "\n",
    "import csv\n",
    "import requests   \n",
    "        "
   ]
  },
  {
   "cell_type": "code",
   "execution_count": 5,
   "metadata": {
    "pycharm": {
     "name": "#%%\n"
    }
   },
   "outputs": [],
   "source": [
    "# Set the ticker symbol for the S&P 500 index\n",
    "ticker = \"SPY\"\n",
    "\n",
    "# replace the \"demo\" apikey below with your own key from https://www.alphavantage.co/support/#api-key\n",
    "apikey = 'INSERT_YOUR_API_KEY_HERE'  # get your free API key from https://www.alphavantage.co/support/#api-key\n",
    "data_slices=[f\"year1month{m}\" for m in range(1,13)] \n",
    "intervals = [\"1min\",\"5min\",\"15min\",\"30min\"]\n"
   ]
  },
  {
   "cell_type": "code",
   "execution_count": 7,
   "metadata": {
    "pycharm": {
     "name": "#%%\n"
    }
   },
   "outputs": [],
   "source": [
    "import time\n",
    "# Retrive one year data\n",
    "for interval in intervals:\n",
    "    for data_slice in data_slices:\n",
    "        CSV_URL = f\"https://www.alphavantage.co/query?function=TIME_SERIES_INTRADAY_EXTENDED&symbol={ticker}&interval={interval}&slice={data_slice}&apikey={apikey}\"\n",
    "        with requests.Session() as s:\n",
    "            download = s.get(CSV_URL)\n",
    "            decoded_content = download.content.decode('utf-8')\n",
    "            cr = csv.reader(decoded_content.splitlines(), delimiter=',')\n",
    "            my_list = list(cr)\n",
    "            ouput_file = f\"./data/alpha_vantage/SPY/interval={interval}/interval_{interval}_{data_slice}.csv\"\n",
    "            with open(ouput_file, 'w', newline='') as csvfile:\n",
    "                csvwriter = csv.writer(csvfile, delimiter=',',quotechar='\\\"', quoting=csv.QUOTE_MINIMAL)\n",
    "                for row in my_list:\n",
    "                    csvwriter.writerow(row)\n",
    "        #do some stuff\n",
    "        print(f\"Finished extracting {data_slice} with interval = {interval}, now sleeping for 5 minutes\")\n",
    "        for i in range(300, 0, -1):\n",
    "            print(f\"Weaking up in - {i} sec\", end = '\\r')\n",
    "            time.sleep(1)              \n",
    "        \n",
    "\n",
    "    \n",
    "    \n",
    "    \n",
    "    "
   ]
  },
  {
   "cell_type": "code",
   "execution_count": null,
   "metadata": {
    "pycharm": {
     "name": "#%%\n"
    }
   },
   "outputs": [],
   "source": []
  }
 ],
 "metadata": {
  "kernelspec": {
   "display_name": "Python 3 (ipykernel)",
   "language": "python",
   "name": "python3"
  },
  "language_info": {
   "codemirror_mode": {
    "name": "ipython",
    "version": 3
   },
   "file_extension": ".py",
   "mimetype": "text/x-python",
   "name": "python",
   "nbconvert_exporter": "python",
   "pygments_lexer": "ipython3",
   "version": "3.7.16"
  }
 },
 "nbformat": 4,
 "nbformat_minor": 1
}
