{
 "cells": [
  {
   "cell_type": "code",
   "execution_count": 33,
   "metadata": {
    "pycharm": {
     "is_executing": true,
     "name": "#%%\n"
    }
   },
   "outputs": [],
   "source": [
    "import pandas as pd\n",
    "import yfinance as yf\n",
    "import numpy as np\n",
    "import csv\n",
    "import os\n"
   ]
  },
  {
   "cell_type": "code",
   "execution_count": null,
   "outputs": [],
   "source": [
    "# Set the ticker symbol for the S&P 500 index\n",
    "ticker = \"^GSPC\"\n",
    "\n",
    "# Set the start and end dates for the data you want to retrieve\n",
    "batch_date = \"2023-02\"\n",
    "start_date = f\"{batch_date}-01\"\n",
    "end_date = f\"{batch_date}-03\"\n",
    "data_intervals = [\"1m\",\"5m\",\"15m\",\"30m\"]\n",
    "\n",
    "for data_interval in data_intervals:\n",
    "    # Use the `ticker.history` method to retrieve the data\n",
    "    data = yf.Ticker(ticker).history(start=start_date, end=end_date, interval=data_interval)\n",
    "\n",
    "    # Print the first few rows of the data\n",
    "    # print(data.head())\n",
    "    output_path = f\"/Users/ybatash/Workspace/tau.ac.il/tau-final-project/data/yahoo_finance/interval={data_interval}/\"\n",
    "    new_folder = output_path+f\"batch_date={batch_date}/\"\n",
    "    file_name = f\"GSPC_data_{start_date}_{end_date}.csv\"\n",
    "    file_full_path = new_folder + file_name\n",
    "\n",
    "\n",
    "    try:\n",
    "        os.mkdir(new_folder)\n",
    "    except FileExistsError:\n",
    "        print(f\"Folder  - {new_folder} elready exists\")\n",
    "\n",
    "\n",
    "    data.to_csv(path_or_buf=file_full_path,\n",
    "                quotechar='\"',\n",
    "                quoting=csv.QUOTE_ALL)\n",
    "    print(f\"Finished writing file - {file_name}\")\n",
    "    "
   ],
   "metadata": {
    "collapsed": false,
    "pycharm": {
     "name": "#%%\n"
    }
   }
  },
  {
   "cell_type": "code",
   "execution_count": null,
   "outputs": [],
   "source": [],
   "metadata": {
    "collapsed": false,
    "pycharm": {
     "name": "#%%\n"
    }
   }
  },
  {
   "cell_type": "code",
   "execution_count": null,
   "outputs": [],
   "source": [],
   "metadata": {
    "collapsed": false,
    "pycharm": {
     "name": "#%%\n"
    }
   }
  },
  {
   "cell_type": "code",
   "execution_count": null,
   "metadata": {
    "pycharm": {
     "name": "#%%\n"
    }
   },
   "outputs": [],
   "source": []
  },
  {
   "cell_type": "code",
   "execution_count": null,
   "metadata": {
    "pycharm": {
     "name": "#%%\n"
    }
   },
   "outputs": [],
   "source": []
  }
 ],
 "metadata": {
  "kernelspec": {
   "display_name": "Python 3 (ipykernel)",
   "language": "python",
   "name": "python3"
  },
  "language_info": {
   "codemirror_mode": {
    "name": "ipython",
    "version": 3
   },
   "file_extension": ".py",
   "mimetype": "text/x-python",
   "name": "python",
   "nbconvert_exporter": "python",
   "pygments_lexer": "ipython3",
   "version": "3.9.16"
  }
 },
 "nbformat": 4,
 "nbformat_minor": 1
}