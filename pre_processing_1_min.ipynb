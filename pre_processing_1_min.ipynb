{
 "cells": [
  {
   "cell_type": "code",
   "execution_count": 1,
   "id": "9a3e3d88",
   "metadata": {
    "pycharm": {
     "name": "#%%\n"
    }
   },
   "outputs": [],
   "source": [
    "# !pip install findspark"
   ]
  },
  {
   "cell_type": "code",
   "execution_count": 1,
   "id": "18ea4a5a",
   "metadata": {
    "pycharm": {
     "name": "#%%\n"
    }
   },
   "outputs": [],
   "source": [
    "import findspark\n",
    "\n",
    "findspark.init()\n"
   ]
  },
  {
   "cell_type": "code",
   "execution_count": 2,
   "id": "23128c49",
   "metadata": {},
   "outputs": [
    {
     "name": "stdout",
     "output_type": "stream",
     "text": [
      "pre_trade_d - 19740.0\n",
      "trade_d - 23340.0\n",
      "post_trade_d - 14340\n"
     ]
    }
   ],
   "source": [
    "# Variables \n",
    "DATA_INTERVAL = 1 # 1 minute\n",
    "MIN = 60\n",
    "SEC = 60\n",
    "pre_trade_d = (5.5*(MIN*SEC)) - (DATA_INTERVAL*SEC)\n",
    "trade_d = 6.5*(MIN*SEC) - (DATA_INTERVAL*SEC)\n",
    "post_trade_d = 4*(MIN*SEC) - (DATA_INTERVAL*SEC)\n",
    "\n",
    "total_trade_d = pre_trade_d + trade_d + post_trade_d + (2*DATA_INTERVAL*SEC)\n",
    "\n",
    "pre_trade_ub = 5.5*(MIN*SEC)\n",
    "trade_ub = pre_trade_ub + 6.5*(MIN*SEC)\n",
    "post_trade_ub = trade_ub + 4*(MIN*SEC)\n",
    "\n",
    "print(f\"pre_trade_d - {pre_trade_d}\")\n",
    "print(f\"trade_d - {trade_d}\")\n",
    "print(f\"post_trade_d - {post_trade_d}\")\n"
   ]
  },
  {
   "cell_type": "code",
   "execution_count": 3,
   "id": "3d96d20f",
   "metadata": {
    "pycharm": {
     "name": "#%%\n"
    }
   },
   "outputs": [
    {
     "name": "stdout",
     "output_type": "stream",
     "text": [
      ":: loading settings :: url = jar:file:/Users/ybatash/.sdkman/candidates/spark/3.5.0/jars/ivy-2.5.1.jar!/org/apache/ivy/core/settings/ivysettings.xml\n"
     ]
    },
    {
     "name": "stderr",
     "output_type": "stream",
     "text": [
      "Ivy Default Cache set to: /Users/ybatash/.ivy2/cache\n",
      "The jars for the packages stored in: /Users/ybatash/.ivy2/jars\n",
      "org.apache.spark#spark-sql-kafka-0-10_2.12 added as a dependency\n",
      ":: resolving dependencies :: org.apache.spark#spark-submit-parent-5fc06da9-858b-469d-b3ef-54a3de47740c;1.0\n",
      "\tconfs: [default]\n",
      "\tfound org.apache.spark#spark-sql-kafka-0-10_2.12;3.0.0 in central\n",
      "\tfound org.apache.spark#spark-token-provider-kafka-0-10_2.12;3.0.0 in central\n",
      "\tfound org.apache.kafka#kafka-clients;2.4.1 in local-m2-cache\n",
      "\tfound com.github.luben#zstd-jni;1.4.4-3 in local-m2-cache\n",
      "\tfound org.lz4#lz4-java;1.7.1 in local-m2-cache\n",
      "\tfound org.xerial.snappy#snappy-java;1.1.7.5 in local-m2-cache\n",
      "\tfound org.slf4j#slf4j-api;1.7.30 in local-m2-cache\n",
      "\tfound org.spark-project.spark#unused;1.0.0 in local-m2-cache\n",
      "\tfound org.apache.commons#commons-pool2;2.6.2 in local-m2-cache\n",
      ":: resolution report :: resolve 243ms :: artifacts dl 14ms\n",
      "\t:: modules in use:\n",
      "\tcom.github.luben#zstd-jni;1.4.4-3 from local-m2-cache in [default]\n",
      "\torg.apache.commons#commons-pool2;2.6.2 from local-m2-cache in [default]\n",
      "\torg.apache.kafka#kafka-clients;2.4.1 from local-m2-cache in [default]\n",
      "\torg.apache.spark#spark-sql-kafka-0-10_2.12;3.0.0 from central in [default]\n",
      "\torg.apache.spark#spark-token-provider-kafka-0-10_2.12;3.0.0 from central in [default]\n",
      "\torg.lz4#lz4-java;1.7.1 from local-m2-cache in [default]\n",
      "\torg.slf4j#slf4j-api;1.7.30 from local-m2-cache in [default]\n",
      "\torg.spark-project.spark#unused;1.0.0 from local-m2-cache in [default]\n",
      "\torg.xerial.snappy#snappy-java;1.1.7.5 from local-m2-cache in [default]\n",
      "\t---------------------------------------------------------------------\n",
      "\t|                  |            modules            ||   artifacts   |\n",
      "\t|       conf       | number| search|dwnlded|evicted|| number|dwnlded|\n",
      "\t---------------------------------------------------------------------\n",
      "\t|      default     |   9   |   0   |   0   |   0   ||   9   |   0   |\n",
      "\t---------------------------------------------------------------------\n",
      ":: retrieving :: org.apache.spark#spark-submit-parent-5fc06da9-858b-469d-b3ef-54a3de47740c\n",
      "\tconfs: [default]\n",
      "\t0 artifacts copied, 9 already retrieved (0kB/5ms)\n",
      "24/08/25 06:31:48 WARN NativeCodeLoader: Unable to load native-hadoop library for your platform... using builtin-java classes where applicable\n",
      "Setting default log level to \"WARN\".\n",
      "To adjust logging level use sc.setLogLevel(newLevel). For SparkR, use setLogLevel(newLevel).\n"
     ]
    }
   ],
   "source": [
    "import pyspark\n",
    "from pyspark.sql import SparkSession\n",
    "from pyspark.sql import functions as F\n",
    "from pyspark.sql.window import Window\n",
    "\n",
    "spark = SparkSession.builder \\\n",
    "          .appName('pre_process_1min_data') \\\n",
    "          .config('spark.driver.extraJavaOptions', '-Duser.timezone=GMT') \\\n",
    "          .config('spark.executor.extraJavaOptions', '-Duser.timezone=GMT') \\\n",
    "          .config('spark.sql.session.timeZone', 'UTC') \\\n",
    "          .getOrCreate()\n"
   ]
  },
  {
   "cell_type": "code",
   "execution_count": 4,
   "id": "22e653e0",
   "metadata": {
    "pycharm": {
     "name": "#%%\n"
    }
   },
   "outputs": [
    {
     "name": "stdout",
     "output_type": "stream",
     "text": [
      "root\n",
      " |-- time: timestamp (nullable = true)\n",
      " |-- open: double (nullable = true)\n",
      " |-- high: double (nullable = true)\n",
      " |-- low: double (nullable = true)\n",
      " |-- close: double (nullable = true)\n",
      " |-- volume: integer (nullable = true)\n",
      "\n"
     ]
    }
   ],
   "source": [
    "from pyspark.sql.types import StructType, StructField, IntegerType, TimestampType, DoubleType\n",
    "\n",
    "schema = StructType([\n",
    "    StructField(\"time\", TimestampType()),\n",
    "    StructField(\"open\", DoubleType()),\n",
    "    StructField(\"high\", DoubleType()),\n",
    "    StructField(\"low\", DoubleType()),\n",
    "    StructField(\"close\", DoubleType()),\n",
    "    StructField(\"volume\", IntegerType())    \n",
    "])\n",
    "\n",
    "\n",
    "# Read csv files\n",
    "df = spark.read.option(\"header\",True).csv(\"./data/alpha_vantage/SPY/interval=1min/*\", schema=schema)\n",
    "\n",
    "df.printSchema()\n",
    "\n",
    "df.createOrReplaceTempView(\"df\")"
   ]
  },
  {
   "cell_type": "markdown",
   "id": "07ab2e38",
   "metadata": {},
   "source": [
    "## Adding Time Features\n"
   ]
  },
  {
   "cell_type": "code",
   "execution_count": 5,
   "id": "63f38985",
   "metadata": {},
   "outputs": [
    {
     "name": "stdout",
     "output_type": "stream",
     "text": [
      "root\n",
      " |-- time: timestamp (nullable = true)\n",
      " |-- open: double (nullable = true)\n",
      " |-- high: double (nullable = true)\n",
      " |-- low: double (nullable = true)\n",
      " |-- close: double (nullable = true)\n",
      " |-- volume: integer (nullable = true)\n",
      " |-- t_trade_epoch: long (nullable = true)\n",
      " |-- t_trade_date: date (nullable = true)\n",
      " |-- t_trade_hour: integer (nullable = true)\n",
      " |-- t_trade_minute: integer (nullable = true)\n",
      " |-- t_trade_day_of_week: integer (nullable = true)\n",
      " |-- t_trade_open_e: long (nullable = true)\n",
      " |-- t_trade_open_h: integer (nullable = true)\n",
      " |-- t_trade_close_e: long (nullable = true)\n",
      " |-- t_trade_close_h: integer (nullable = true)\n",
      " |-- t_time_diff_between_trade_and_open_in_sec: long (nullable = true)\n",
      " |-- t_trade_part: integer (nullable = false)\n",
      " |-- t_trade_part_open_e: long (nullable = true)\n",
      " |-- t_trade_part_open_h: integer (nullable = true)\n",
      " |-- t_time_diff_between_trade_and_trade_part_open_in_sec: long (nullable = true)\n",
      " |-- t_precent_of_time_from_start_of_trade_pase: double (nullable = true)\n",
      " |-- t_precent_of_time_from_start_of_trade_day: double (nullable = true)\n",
      "\n"
     ]
    }
   ],
   "source": [
    "PRE_TRADE=0\n",
    "TRADE=1\n",
    "POST_TRADE=2\n",
    "UNKNOWN=-1\n",
    "\n",
    "# This column capture the time and date of SPY index price in epoch time.\n",
    "df = df.withColumn(\"t_trade_epoch\",F.unix_timestamp(\"time\"))\n",
    "\n",
    "# This column capture the date of SPY index price.\n",
    "df = df.withColumn(\"t_trade_date\", F.to_date(\"time\"))\n",
    "\n",
    "# This column capture the hour of SPY index price.\n",
    "df = df.withColumn(\"t_trade_hour\", F.hour(\"time\"))\n",
    "\n",
    "# This column capture the hour of SPY index price.\n",
    "df = df.withColumn(\"t_trade_minute\", F.minute(\"time\"))\n",
    "\n",
    "\n",
    "# This column capture the day of the week of SPY index price.\n",
    "df = df.withColumn(\"t_trade_day_of_week\", F.dayofweek(\"time\"))\n",
    "\n",
    "# e - epoch\n",
    "# This column capture the open epoch of SPY index price per day.\n",
    "df = df.withColumn(\"t_trade_open_e\", F.min(\"t_trade_epoch\").over(Window.partitionBy(\"t_trade_date\")))\n",
    "df = df.withColumn(\"t_trade_open_h\", F.hour(F.min(\"time\").over(Window.partitionBy(\"t_trade_date\"))))\n",
    "\n",
    "# This column capture the close epoch of SPY index price per day.\n",
    "df = df.withColumn(\"t_trade_close_e\", F.max(\"t_trade_epoch\").over(Window.partitionBy(\"t_trade_date\")))\n",
    "df = df.withColumn(\"t_trade_close_h\", F.hour(F.max(\"time\").over(Window.partitionBy(\"t_trade_date\"))))\n",
    "\n",
    "# This column capture the number of seconds pass from trade open and trade close.\n",
    "df = df.withColumn(\"t_time_diff_between_trade_and_open_in_sec\", F.col(\"t_trade_epoch\")-F.col(\"t_trade_open_e\"))\n",
    "\n",
    "# This column capture what part of the trade we are (pre trade, trade, post trade)\n",
    "df = df.withColumn(\"t_trade_part\", F.when(F.col(\"t_time_diff_between_trade_and_open_in_sec\") < pre_trade_ub,PRE_TRADE)\n",
    ".when(F.col(\"t_time_diff_between_trade_and_open_in_sec\") < trade_ub,TRADE)\n",
    ".when(F.col(\"t_time_diff_between_trade_and_open_in_sec\") <= post_trade_ub,POST_TRADE)             \n",
    ".otherwise(UNKNOWN))\n",
    "\n",
    "column_list = [\"t_trade_date\",\"t_trade_part\"]\n",
    "win_spec = Window.partitionBy([F.col(x) for x in column_list])\n",
    "\n",
    "# e - epoch\n",
    "# This column capture the open epoch of SPY index price per trading part in day.\n",
    "df = df.withColumn(\"t_trade_part_open_e\", F.min(\"t_trade_epoch\").over(win_spec))\n",
    "df = df.withColumn(\"t_trade_part_open_h\", F.hour(F.min(\"time\").over(win_spec)))\n",
    "\n",
    "# This column capture the number of seconds pass from trade part open and trade.\n",
    "df = df.withColumn(\"t_time_diff_between_trade_and_trade_part_open_in_sec\", F.col(\"t_trade_epoch\")-F.col(\"t_trade_part_open_e\"))\n",
    "\n",
    "df = df.withColumn(\"t_precent_of_time_from_start_of_trade_pase\", F.when(F.col(\"t_trade_part\") == PRE_TRADE, F.col(\"t_time_diff_between_trade_and_trade_part_open_in_sec\")/pre_trade_d*100)\n",
    ".when(F.col(\"t_trade_part\") == TRADE, F.col(\"t_time_diff_between_trade_and_trade_part_open_in_sec\")/trade_d*100)\n",
    ".when(F.col(\"t_trade_part\") == POST_TRADE, F.col(\"t_time_diff_between_trade_and_trade_part_open_in_sec\")/post_trade_d*100)              \n",
    ".otherwise(UNKNOWN))\n",
    "\n",
    "df = df.withColumn(\"t_precent_of_time_from_start_of_trade_day\", F.col(\"t_time_diff_between_trade_and_open_in_sec\")/total_trade_d*100)\n",
    "\n",
    "\n",
    "df.createOrReplaceTempView(\"df\")\n",
    "\n",
    "df.printSchema()"
   ]
  },
  {
   "cell_type": "markdown",
   "id": "41036eda",
   "metadata": {},
   "source": [
    "## Adding Price Features\n"
   ]
  },
  {
   "cell_type": "code",
   "execution_count": 6,
   "id": "d1a1cd37",
   "metadata": {
    "pycharm": {
     "name": "#%%\n"
    }
   },
   "outputs": [],
   "source": [
    "# Adding Open Price Features\n",
    "\n",
    "df = df.withColumn(\"rnk\",F.dense_rank().over(Window.partitionBy(\"t_trade_date\").orderBy(\"t_trade_epoch\")))\\\n",
    ".withColumn(\"p_min_open_price_for_last_3min\",F.min(\"open\").over(Window.partitionBy(\"t_trade_date\").orderBy(\"rnk\").rangeBetween(-3,-1)))\\\n",
    ".withColumn(\"p_avg_open_price_for_last_3min\",F.avg(\"open\").over(Window.partitionBy(\"t_trade_date\").orderBy(\"rnk\").rangeBetween(-3,-1)))\\\n",
    ".withColumn(\"p_max_open_price_for_last_3min\",F.max(\"open\").over(Window.partitionBy(\"t_trade_date\").orderBy(\"rnk\").rangeBetween(-3,-1)))\\\n",
    ".withColumn(\"p_stddev_open_price_for_last_3min\",F.stddev(\"open\").over(Window.partitionBy(\"t_trade_date\").orderBy(\"rnk\").rangeBetween(-3,-1)))\\\n",
    ".withColumn(\"p_min_open_price_for_last_5min\",F.min(\"open\").over(Window.partitionBy(\"t_trade_date\").orderBy(\"rnk\").rangeBetween(-5,-1)))\\\n",
    ".withColumn(\"p_avg_open_price_for_last_5min\",F.avg(\"open\").over(Window.partitionBy(\"t_trade_date\").orderBy(\"rnk\").rangeBetween(-5,-1)))\\\n",
    ".withColumn(\"p_max_open_price_for_last_5min\",F.max(\"open\").over(Window.partitionBy(\"t_trade_date\").orderBy(\"rnk\").rangeBetween(-5,-1)))\\\n",
    ".withColumn(\"p_stddev_open_price_for_last_5min\",F.stddev(\"open\").over(Window.partitionBy(\"t_trade_date\").orderBy(\"rnk\").rangeBetween(-5,-1)))\\\n",
    ".withColumn(\"p_min_open_price_for_last_10min\",F.min(\"open\").over(Window.partitionBy(\"t_trade_date\").orderBy(\"rnk\").rangeBetween(-10,-1)))\\\n",
    ".withColumn(\"p_avg_open_price_for_last_10min\",F.avg(\"open\").over(Window.partitionBy(\"t_trade_date\").orderBy(\"rnk\").rangeBetween(-10,-1)))\\\n",
    ".withColumn(\"p_max_open_price_for_last_10min\",F.max(\"open\").over(Window.partitionBy(\"t_trade_date\").orderBy(\"rnk\").rangeBetween(-10,-1)))\\\n",
    ".withColumn(\"p_stddev_open_price_for_last_10min\",F.stddev(\"open\").over(Window.partitionBy(\"t_trade_date\").orderBy(\"rnk\").rangeBetween(-10,-1)))\n"
   ]
  },
  {
   "cell_type": "code",
   "execution_count": 7,
   "id": "bde479d9",
   "metadata": {
    "pycharm": {
     "name": "#%%\n"
    }
   },
   "outputs": [],
   "source": [
    "# Adding high Price Features\n",
    "\n",
    "df = df.withColumn(\"rnk\",F.dense_rank().over(Window.partitionBy(\"t_trade_date\").orderBy(\"t_trade_epoch\")))\\\n",
    ".withColumn(\"p_min_high_price_for_last_3min\",F.min(\"high\").over(Window.partitionBy(\"t_trade_date\").orderBy(\"rnk\").rangeBetween(-3,-1)))\\\n",
    ".withColumn(\"p_avg_high_price_for_last_3min\",F.avg(\"high\").over(Window.partitionBy(\"t_trade_date\").orderBy(\"rnk\").rangeBetween(-3,-1)))\\\n",
    ".withColumn(\"p_max_high_price_for_last_3min\",F.max(\"high\").over(Window.partitionBy(\"t_trade_date\").orderBy(\"rnk\").rangeBetween(-3,-1)))\\\n",
    ".withColumn(\"p_stddev_high_price_for_last_3min\",F.stddev(\"high\").over(Window.partitionBy(\"t_trade_date\").orderBy(\"rnk\").rangeBetween(-3,-1)))\\\n",
    ".withColumn(\"p_min_high_price_for_last_5min\",F.min(\"high\").over(Window.partitionBy(\"t_trade_date\").orderBy(\"rnk\").rangeBetween(-5,-1)))\\\n",
    ".withColumn(\"p_avg_high_price_for_last_5min\",F.avg(\"high\").over(Window.partitionBy(\"t_trade_date\").orderBy(\"rnk\").rangeBetween(-5,-1)))\\\n",
    ".withColumn(\"p_max_high_price_for_last_5min\",F.max(\"high\").over(Window.partitionBy(\"t_trade_date\").orderBy(\"rnk\").rangeBetween(-5,-1)))\\\n",
    ".withColumn(\"p_stddev_high_price_for_last_5min\",F.stddev(\"high\").over(Window.partitionBy(\"t_trade_date\").orderBy(\"rnk\").rangeBetween(-5,-1)))\\\n",
    ".withColumn(\"p_min_high_price_for_last_10min\",F.min(\"high\").over(Window.partitionBy(\"t_trade_date\").orderBy(\"rnk\").rangeBetween(-10,-1)))\\\n",
    ".withColumn(\"p_avg_high_price_for_last_10min\",F.avg(\"high\").over(Window.partitionBy(\"t_trade_date\").orderBy(\"rnk\").rangeBetween(-10,-1)))\\\n",
    ".withColumn(\"p_max_high_price_for_last_10min\",F.max(\"high\").over(Window.partitionBy(\"t_trade_date\").orderBy(\"rnk\").rangeBetween(-10,-1)))\\\n",
    ".withColumn(\"p_stddev_high_price_for_last_10min\",F.stddev(\"high\").over(Window.partitionBy(\"t_trade_date\").orderBy(\"rnk\").rangeBetween(-10,-1)))\n",
    "\n",
    "# df.createOrReplaceTempView(\"df\")\n",
    "\n",
    "# df.printSchema()"
   ]
  },
  {
   "cell_type": "code",
   "execution_count": 8,
   "id": "b2c382a9",
   "metadata": {
    "pycharm": {
     "name": "#%%\n"
    }
   },
   "outputs": [],
   "source": [
    "# Adding low Price Features\n",
    "\n",
    "df = df.withColumn(\"rnk\",F.dense_rank().over(Window.partitionBy(\"t_trade_date\").orderBy(\"t_trade_epoch\")))\\\n",
    ".withColumn(\"p_min_low_price_for_last_3min\",F.min(\"low\").over(Window.partitionBy(\"t_trade_date\").orderBy(\"rnk\").rangeBetween(-3,-1)))\\\n",
    ".withColumn(\"p_avg_low_price_for_last_3min\",F.avg(\"low\").over(Window.partitionBy(\"t_trade_date\").orderBy(\"rnk\").rangeBetween(-3,-1)))\\\n",
    ".withColumn(\"p_max_low_price_for_last_3min\",F.max(\"low\").over(Window.partitionBy(\"t_trade_date\").orderBy(\"rnk\").rangeBetween(-3,-1)))\\\n",
    ".withColumn(\"p_stddev_low_price_for_last_3min\",F.stddev(\"low\").over(Window.partitionBy(\"t_trade_date\").orderBy(\"rnk\").rangeBetween(-3,-1)))\\\n",
    ".withColumn(\"p_min_low_price_for_last_5min\",F.min(\"low\").over(Window.partitionBy(\"t_trade_date\").orderBy(\"rnk\").rangeBetween(-5,-1)))\\\n",
    ".withColumn(\"p_avg_low_price_for_last_5min\",F.avg(\"low\").over(Window.partitionBy(\"t_trade_date\").orderBy(\"rnk\").rangeBetween(-5,-1)))\\\n",
    ".withColumn(\"p_max_low_price_for_last_5min\",F.max(\"low\").over(Window.partitionBy(\"t_trade_date\").orderBy(\"rnk\").rangeBetween(-5,-1)))\\\n",
    ".withColumn(\"p_stddev_low_price_for_last_5min\",F.stddev(\"low\").over(Window.partitionBy(\"t_trade_date\").orderBy(\"rnk\").rangeBetween(-5,-1)))\\\n",
    ".withColumn(\"p_min_low_price_for_last_10min\",F.min(\"low\").over(Window.partitionBy(\"t_trade_date\").orderBy(\"rnk\").rangeBetween(-10,-1)))\\\n",
    ".withColumn(\"p_avg_low_price_for_last_10min\",F.avg(\"low\").over(Window.partitionBy(\"t_trade_date\").orderBy(\"rnk\").rangeBetween(-10,-1)))\\\n",
    ".withColumn(\"p_max_low_price_for_last_10min\",F.max(\"low\").over(Window.partitionBy(\"t_trade_date\").orderBy(\"rnk\").rangeBetween(-10,-1)))\\\n",
    ".withColumn(\"p_stddev_low_price_for_last_10min\",F.stddev(\"low\").over(Window.partitionBy(\"t_trade_date\").orderBy(\"rnk\").rangeBetween(-10,-1)))\n",
    "\n",
    "\n",
    "# df.createOrReplaceTempView(\"df\")\n",
    "\n",
    "# df.printSchema()"
   ]
  },
  {
   "cell_type": "code",
   "execution_count": 9,
   "id": "e41d7c32",
   "metadata": {
    "pycharm": {
     "name": "#%%\n"
    }
   },
   "outputs": [],
   "source": [
    "# # Adding close Price Features\n",
    "\n",
    "df = df.withColumn(\"rnk\",F.dense_rank().over(Window.partitionBy(\"t_trade_date\").orderBy(\"t_trade_epoch\")))\\\n",
    ".withColumn(\"p_min_close_price_for_last_3min\",F.min(\"close\").over(Window.partitionBy(\"t_trade_date\").orderBy(\"rnk\").rangeBetween(-3,-1)))\\\n",
    ".withColumn(\"p_avg_close_price_for_last_3min\",F.avg(\"close\").over(Window.partitionBy(\"t_trade_date\").orderBy(\"rnk\").rangeBetween(-3,-1)))\\\n",
    ".withColumn(\"p_max_close_price_for_last_3min\",F.max(\"close\").over(Window.partitionBy(\"t_trade_date\").orderBy(\"rnk\").rangeBetween(-3,-1)))\\\n",
    ".withColumn(\"p_stddev_close_price_for_last_3min\",F.stddev(\"close\").over(Window.partitionBy(\"t_trade_date\").orderBy(\"rnk\").rangeBetween(-3,-1)))\\\n",
    ".withColumn(\"p_min_close_price_for_last_5min\",F.min(\"close\").over(Window.partitionBy(\"t_trade_date\").orderBy(\"rnk\").rangeBetween(-5,-1)))\\\n",
    ".withColumn(\"p_avg_close_price_for_last_5min\",F.avg(\"close\").over(Window.partitionBy(\"t_trade_date\").orderBy(\"rnk\").rangeBetween(-5,-1)))\\\n",
    ".withColumn(\"p_max_close_price_for_last_5min\",F.max(\"close\").over(Window.partitionBy(\"t_trade_date\").orderBy(\"rnk\").rangeBetween(-5,-1)))\\\n",
    ".withColumn(\"p_stddev_close_price_for_last_5min\",F.stddev(\"close\").over(Window.partitionBy(\"t_trade_date\").orderBy(\"rnk\").rangeBetween(-5,-1)))\\\n",
    ".withColumn(\"p_min_close_price_for_last_10min\",F.min(\"close\").over(Window.partitionBy(\"t_trade_date\").orderBy(\"rnk\").rangeBetween(-10,-1)))\\\n",
    ".withColumn(\"p_avg_close_price_for_last_10min\",F.avg(\"close\").over(Window.partitionBy(\"t_trade_date\").orderBy(\"rnk\").rangeBetween(-10,-1)))\\\n",
    ".withColumn(\"p_max_close_price_for_last_10min\",F.max(\"close\").over(Window.partitionBy(\"t_trade_date\").orderBy(\"rnk\").rangeBetween(-10,-1)))\\\n",
    ".withColumn(\"p_stddev_close_price_for_last_10min\",F.stddev(\"close\").over(Window.partitionBy(\"t_trade_date\").orderBy(\"rnk\").rangeBetween(-10,-1)))\n"
   ]
  },
  {
   "cell_type": "code",
   "execution_count": 10,
   "id": "0bb642f0",
   "metadata": {
    "pycharm": {
     "name": "#%%\n"
    }
   },
   "outputs": [],
   "source": [
    "# # Adding volume Price Features\n",
    "\n",
    "df = df.withColumn(\"rnk\",F.dense_rank().over(Window.partitionBy(\"t_trade_date\").orderBy(\"t_trade_epoch\")))\\\n",
    ".withColumn(\"p_min_volume_price_for_last_3min\",F.min(\"volume\").over(Window.partitionBy(\"t_trade_date\").orderBy(\"rnk\").rangeBetween(-3,-1)))\\\n",
    ".withColumn(\"p_avg_volume_price_for_last_3min\",F.avg(\"volume\").over(Window.partitionBy(\"t_trade_date\").orderBy(\"rnk\").rangeBetween(-3,-1)))\\\n",
    ".withColumn(\"p_max_volume_price_for_last_3min\",F.max(\"volume\").over(Window.partitionBy(\"t_trade_date\").orderBy(\"rnk\").rangeBetween(-3,-1)))\\\n",
    ".withColumn(\"p_stddev_volume_price_for_last_3min\",F.stddev(\"volume\").over(Window.partitionBy(\"t_trade_date\").orderBy(\"rnk\").rangeBetween(-3,-1)))\\\n",
    ".withColumn(\"p_min_volume_price_for_last_5min\",F.min(\"volume\").over(Window.partitionBy(\"t_trade_date\").orderBy(\"rnk\").rangeBetween(-5,-1)))\\\n",
    ".withColumn(\"p_avg_volume_price_for_last_5min\",F.avg(\"volume\").over(Window.partitionBy(\"t_trade_date\").orderBy(\"rnk\").rangeBetween(-5,-1)))\\\n",
    ".withColumn(\"p_max_volume_price_for_last_5min\",F.max(\"volume\").over(Window.partitionBy(\"t_trade_date\").orderBy(\"rnk\").rangeBetween(-5,-1)))\\\n",
    ".withColumn(\"p_stddev_volume_price_for_last_5min\",F.stddev(\"volume\").over(Window.partitionBy(\"t_trade_date\").orderBy(\"rnk\").rangeBetween(-5,-1)))\\\n",
    ".withColumn(\"p_min_volume_price_for_last_10min\",F.min(\"volume\").over(Window.partitionBy(\"t_trade_date\").orderBy(\"rnk\").rangeBetween(-10,-1)))\\\n",
    ".withColumn(\"p_avg_volume_price_for_last_10min\",F.avg(\"volume\").over(Window.partitionBy(\"t_trade_date\").orderBy(\"rnk\").rangeBetween(-10,-1)))\\\n",
    ".withColumn(\"p_max_volume_price_for_last_10min\",F.max(\"volume\").over(Window.partitionBy(\"t_trade_date\").orderBy(\"rnk\").rangeBetween(-10,-1)))\\\n",
    ".withColumn(\"p_stddev_volume_price_for_last_10min\",F.stddev(\"volume\").over(Window.partitionBy(\"t_trade_date\").orderBy(\"rnk\").rangeBetween(-10,-1)))\n"
   ]
  },
  {
   "cell_type": "markdown",
   "id": "5d658175",
   "metadata": {},
   "source": [
    "# Fill Null with 0"
   ]
  },
  {
   "cell_type": "code",
   "execution_count": 11,
   "id": "817a46e1",
   "metadata": {},
   "outputs": [],
   "source": [
    "p_prefix_column_list = [f.name for f in df.schema.fields if f.name.startswith(\"p_\")]\n",
    "\n",
    "#Replace 0 for null for all integer columns\n",
    "# df.na.fill(value=0).show()\n",
    "\n",
    "#Replace 0 for null on only population column \n",
    "df = df.na.fill(value=0,subset=p_prefix_column_list)\n"
   ]
  },
  {
   "cell_type": "code",
   "execution_count": 12,
   "id": "71c542ef",
   "metadata": {},
   "outputs": [],
   "source": [
    "# # Check if we have Nulls\n",
    "# # ----------------------------\n",
    "\n",
    "# df.select([F.count(F.when(F.isnan(c), c)).alias(c) for c in p_prefix_column_list]).show()\n"
   ]
  },
  {
   "cell_type": "code",
   "execution_count": 13,
   "id": "47870d1e",
   "metadata": {},
   "outputs": [
    {
     "name": "stdout",
     "output_type": "stream",
     "text": [
      "root\n",
      " |-- time: timestamp (nullable = true)\n",
      " |-- open: double (nullable = true)\n",
      " |-- high: double (nullable = true)\n",
      " |-- low: double (nullable = true)\n",
      " |-- close: double (nullable = true)\n",
      " |-- volume: integer (nullable = true)\n",
      " |-- t_trade_epoch: long (nullable = true)\n",
      " |-- t_trade_date: date (nullable = true)\n",
      " |-- t_trade_hour: integer (nullable = true)\n",
      " |-- t_trade_minute: integer (nullable = true)\n",
      " |-- t_trade_day_of_week: integer (nullable = true)\n",
      " |-- t_trade_open_e: long (nullable = true)\n",
      " |-- t_trade_open_h: integer (nullable = true)\n",
      " |-- t_trade_close_e: long (nullable = true)\n",
      " |-- t_trade_close_h: integer (nullable = true)\n",
      " |-- t_time_diff_between_trade_and_open_in_sec: long (nullable = true)\n",
      " |-- t_trade_part: integer (nullable = false)\n",
      " |-- t_trade_part_open_e: long (nullable = true)\n",
      " |-- t_trade_part_open_h: integer (nullable = true)\n",
      " |-- t_time_diff_between_trade_and_trade_part_open_in_sec: long (nullable = true)\n",
      " |-- t_precent_of_time_from_start_of_trade_pase: double (nullable = true)\n",
      " |-- t_precent_of_time_from_start_of_trade_day: double (nullable = true)\n",
      " |-- rnk: integer (nullable = false)\n",
      " |-- p_min_open_price_for_last_3min: double (nullable = false)\n",
      " |-- p_avg_open_price_for_last_3min: double (nullable = false)\n",
      " |-- p_max_open_price_for_last_3min: double (nullable = false)\n",
      " |-- p_stddev_open_price_for_last_3min: double (nullable = false)\n",
      " |-- p_min_open_price_for_last_5min: double (nullable = false)\n",
      " |-- p_avg_open_price_for_last_5min: double (nullable = false)\n",
      " |-- p_max_open_price_for_last_5min: double (nullable = false)\n",
      " |-- p_stddev_open_price_for_last_5min: double (nullable = false)\n",
      " |-- p_min_open_price_for_last_10min: double (nullable = false)\n",
      " |-- p_avg_open_price_for_last_10min: double (nullable = false)\n",
      " |-- p_max_open_price_for_last_10min: double (nullable = false)\n",
      " |-- p_stddev_open_price_for_last_10min: double (nullable = false)\n",
      " |-- p_min_high_price_for_last_3min: double (nullable = false)\n",
      " |-- p_avg_high_price_for_last_3min: double (nullable = false)\n",
      " |-- p_max_high_price_for_last_3min: double (nullable = false)\n",
      " |-- p_stddev_high_price_for_last_3min: double (nullable = false)\n",
      " |-- p_min_high_price_for_last_5min: double (nullable = false)\n",
      " |-- p_avg_high_price_for_last_5min: double (nullable = false)\n",
      " |-- p_max_high_price_for_last_5min: double (nullable = false)\n",
      " |-- p_stddev_high_price_for_last_5min: double (nullable = false)\n",
      " |-- p_min_high_price_for_last_10min: double (nullable = false)\n",
      " |-- p_avg_high_price_for_last_10min: double (nullable = false)\n",
      " |-- p_max_high_price_for_last_10min: double (nullable = false)\n",
      " |-- p_stddev_high_price_for_last_10min: double (nullable = false)\n",
      " |-- p_min_low_price_for_last_3min: double (nullable = false)\n",
      " |-- p_avg_low_price_for_last_3min: double (nullable = false)\n",
      " |-- p_max_low_price_for_last_3min: double (nullable = false)\n",
      " |-- p_stddev_low_price_for_last_3min: double (nullable = false)\n",
      " |-- p_min_low_price_for_last_5min: double (nullable = false)\n",
      " |-- p_avg_low_price_for_last_5min: double (nullable = false)\n",
      " |-- p_max_low_price_for_last_5min: double (nullable = false)\n",
      " |-- p_stddev_low_price_for_last_5min: double (nullable = false)\n",
      " |-- p_min_low_price_for_last_10min: double (nullable = false)\n",
      " |-- p_avg_low_price_for_last_10min: double (nullable = false)\n",
      " |-- p_max_low_price_for_last_10min: double (nullable = false)\n",
      " |-- p_stddev_low_price_for_last_10min: double (nullable = false)\n",
      " |-- p_min_close_price_for_last_3min: double (nullable = false)\n",
      " |-- p_avg_close_price_for_last_3min: double (nullable = false)\n",
      " |-- p_max_close_price_for_last_3min: double (nullable = false)\n",
      " |-- p_stddev_close_price_for_last_3min: double (nullable = false)\n",
      " |-- p_min_close_price_for_last_5min: double (nullable = false)\n",
      " |-- p_avg_close_price_for_last_5min: double (nullable = false)\n",
      " |-- p_max_close_price_for_last_5min: double (nullable = false)\n",
      " |-- p_stddev_close_price_for_last_5min: double (nullable = false)\n",
      " |-- p_min_close_price_for_last_10min: double (nullable = false)\n",
      " |-- p_avg_close_price_for_last_10min: double (nullable = false)\n",
      " |-- p_max_close_price_for_last_10min: double (nullable = false)\n",
      " |-- p_stddev_close_price_for_last_10min: double (nullable = false)\n",
      " |-- p_min_volume_price_for_last_3min: integer (nullable = true)\n",
      " |-- p_avg_volume_price_for_last_3min: double (nullable = false)\n",
      " |-- p_max_volume_price_for_last_3min: integer (nullable = true)\n",
      " |-- p_stddev_volume_price_for_last_3min: double (nullable = false)\n",
      " |-- p_min_volume_price_for_last_5min: integer (nullable = true)\n",
      " |-- p_avg_volume_price_for_last_5min: double (nullable = false)\n",
      " |-- p_max_volume_price_for_last_5min: integer (nullable = true)\n",
      " |-- p_stddev_volume_price_for_last_5min: double (nullable = false)\n",
      " |-- p_min_volume_price_for_last_10min: integer (nullable = true)\n",
      " |-- p_avg_volume_price_for_last_10min: double (nullable = false)\n",
      " |-- p_max_volume_price_for_last_10min: integer (nullable = true)\n",
      " |-- p_stddev_volume_price_for_last_10min: double (nullable = false)\n",
      "\n"
     ]
    },
    {
     "name": "stderr",
     "output_type": "stream",
     "text": [
      "24/08/25 06:32:01 WARN SparkStringUtils: Truncated the string representation of a plan since it was too large. This behavior can be adjusted by setting 'spark.sql.debug.maxToStringFields'.\n"
     ]
    }
   ],
   "source": [
    "\n",
    "df.createOrReplaceTempView(\"df\")\n",
    "\n",
    "df.printSchema()"
   ]
  },
  {
   "cell_type": "markdown",
   "id": "54f95114",
   "metadata": {},
   "source": [
    "# Adding media data points"
   ]
  },
  {
   "cell_type": "code",
   "execution_count": 14,
   "id": "30333916",
   "metadata": {},
   "outputs": [
    {
     "name": "stderr",
     "output_type": "stream",
     "text": [
      "                                                                                \r"
     ]
    },
    {
     "name": "stdout",
     "output_type": "stream",
     "text": [
      "root\n",
      " |-- epoch: integer (nullable = true)\n",
      " |-- ts_: string (nullable = true)\n",
      " |-- date_: date (nullable = true)\n",
      " |-- year_: integer (nullable = true)\n",
      " |-- month_: integer (nullable = true)\n",
      " |-- day_of_week: string (nullable = true)\n",
      " |-- day_of_month: integer (nullable = true)\n",
      " |-- time_: string (nullable = true)\n",
      " |-- hour_: integer (nullable = true)\n",
      " |-- minute_: integer (nullable = true)\n",
      " |-- snp_media_events_count: long (nullable = true)\n",
      " |-- m_avg_snp_media_events_count_last_15min: double (nullable = true)\n",
      " |-- m_max_snp_media_events_count_last_15min: long (nullable = true)\n",
      " |-- m_stddev_snp_media_events_count_last_15min: double (nullable = true)\n",
      " |-- m_sum_snp_media_events_count_last_15min: long (nullable = true)\n",
      " |-- m_avg_snp_media_events_count_last_30min: double (nullable = true)\n",
      " |-- m_max_snp_media_events_count_last_30min: long (nullable = true)\n",
      " |-- m_stddev_snp_media_events_count_last_30min: double (nullable = true)\n",
      " |-- m_sum_snp_media_events_count_last_30min: long (nullable = true)\n",
      " |-- m_avg_snp_media_events_count_last_45min: double (nullable = true)\n",
      " |-- m_max_snp_media_events_count_last_45min: long (nullable = true)\n",
      " |-- m_stddev_snp_media_events_count_last_45min: double (nullable = true)\n",
      " |-- m_sum_snp_media_events_count_last_45min: long (nullable = true)\n",
      " |-- m_avg_snp_media_events_count_last_1hour: double (nullable = true)\n",
      " |-- m_max_snp_media_events_count_last_1hour: long (nullable = true)\n",
      " |-- m_stddev_snp_media_events_count_last_1hour: double (nullable = true)\n",
      " |-- m_sum_snp_media_events_count_last_1hour: long (nullable = true)\n",
      " |-- m_avg_snp_media_events_count_last_3hour: double (nullable = true)\n",
      " |-- m_max_snp_media_events_count_last_3hour: long (nullable = true)\n",
      " |-- m_stddev_snp_media_events_count_last_3hour: double (nullable = true)\n",
      " |-- m_sum_snp_media_events_count_last_3hour: long (nullable = true)\n",
      " |-- m_avg_snp_media_events_count_last_3days: double (nullable = true)\n",
      " |-- m_max_snp_media_events_count_last_3days: long (nullable = true)\n",
      " |-- m_stddev_snp_media_events_count_last_3days: double (nullable = true)\n",
      " |-- m_sum_snp_media_events_count_last_3days: long (nullable = true)\n",
      " |-- m_avg_snp_media_events_count_last_7days: double (nullable = true)\n",
      " |-- m_max_snp_media_events_count_last_7days: long (nullable = true)\n",
      " |-- m_stddev_snp_media_events_count_last_7days: double (nullable = true)\n",
      " |-- m_sum_snp_media_events_count_last_7days: long (nullable = true)\n",
      " |-- m_avg_snp_media_events_count_last_14days: double (nullable = true)\n",
      " |-- m_max_snp_media_events_count_last_14days: long (nullable = true)\n",
      " |-- m_stddev_snp_media_events_count_last_14days: double (nullable = true)\n",
      " |-- m_sum_snp_media_events_count_last_14days: long (nullable = true)\n",
      " |-- m_avg_snp_media_events_count_last_30days: double (nullable = true)\n",
      " |-- m_max_snp_media_events_count_last_30days: long (nullable = true)\n",
      " |-- m_stddev_snp_media_events_count_last_30days: double (nullable = true)\n",
      " |-- m_sum_snp_media_events_count_last_30days: long (nullable = true)\n",
      " |-- m_avg_snp_media_events_count_last_60days: double (nullable = true)\n",
      " |-- m_max_snp_media_events_count_last_60days: long (nullable = true)\n",
      " |-- m_stddev_snp_media_events_count_last_60days: double (nullable = true)\n",
      " |-- m_sum_snp_media_events_count_last_60days: long (nullable = true)\n",
      "\n"
     ]
    },
    {
     "name": "stderr",
     "output_type": "stream",
     "text": [
      "\r",
      "[Stage 1:>                                                          (0 + 9) / 9]\r"
     ]
    },
    {
     "name": "stdout",
     "output_type": "stream",
     "text": [
      "CodeCache: size=131072Kb used=40756Kb max_used=42270Kb free=90315Kb\n",
      " bounds [0x0000000104298000, 0x0000000106c58000, 0x000000010c298000]\n",
      " total_blobs=13297 nmethods=12302 adapters=908\n",
      " compilation: disabled (not enough contiguous free space left)\n"
     ]
    },
    {
     "name": "stderr",
     "output_type": "stream",
     "text": [
      "OpenJDK 64-Bit Server VM warning: CodeCache is full. Compiler has been disabled.\n",
      "OpenJDK 64-Bit Server VM warning: Try increasing the code cache size using -XX:ReservedCodeCacheSize=\n",
      "                                                                                \r"
     ]
    },
    {
     "name": "stdout",
     "output_type": "stream",
     "text": [
      "+-------+--------------------+-------------------+------------------+------------------+-----------+------------------+--------+-----------------+------------------+----------------------+---------------------------------------+---------------------------------------+------------------------------------------+---------------------------------------+---------------------------------------+---------------------------------------+------------------------------------------+---------------------------------------+---------------------------------------+---------------------------------------+------------------------------------------+---------------------------------------+---------------------------------------+---------------------------------------+------------------------------------------+---------------------------------------+---------------------------------------+---------------------------------------+------------------------------------------+---------------------------------------+---------------------------------------+---------------------------------------+------------------------------------------+---------------------------------------+---------------------------------------+---------------------------------------+------------------------------------------+---------------------------------------+----------------------------------------+----------------------------------------+-------------------------------------------+----------------------------------------+----------------------------------------+----------------------------------------+-------------------------------------------+----------------------------------------+----------------------------------------+----------------------------------------+-------------------------------------------+----------------------------------------+\n",
      "|summary|               epoch|                ts_|             year_|            month_|day_of_week|      day_of_month|   time_|            hour_|           minute_|snp_media_events_count|m_avg_snp_media_events_count_last_15min|m_max_snp_media_events_count_last_15min|m_stddev_snp_media_events_count_last_15min|m_sum_snp_media_events_count_last_15min|m_avg_snp_media_events_count_last_30min|m_max_snp_media_events_count_last_30min|m_stddev_snp_media_events_count_last_30min|m_sum_snp_media_events_count_last_30min|m_avg_snp_media_events_count_last_45min|m_max_snp_media_events_count_last_45min|m_stddev_snp_media_events_count_last_45min|m_sum_snp_media_events_count_last_45min|m_avg_snp_media_events_count_last_1hour|m_max_snp_media_events_count_last_1hour|m_stddev_snp_media_events_count_last_1hour|m_sum_snp_media_events_count_last_1hour|m_avg_snp_media_events_count_last_3hour|m_max_snp_media_events_count_last_3hour|m_stddev_snp_media_events_count_last_3hour|m_sum_snp_media_events_count_last_3hour|m_avg_snp_media_events_count_last_3days|m_max_snp_media_events_count_last_3days|m_stddev_snp_media_events_count_last_3days|m_sum_snp_media_events_count_last_3days|m_avg_snp_media_events_count_last_7days|m_max_snp_media_events_count_last_7days|m_stddev_snp_media_events_count_last_7days|m_sum_snp_media_events_count_last_7days|m_avg_snp_media_events_count_last_14days|m_max_snp_media_events_count_last_14days|m_stddev_snp_media_events_count_last_14days|m_sum_snp_media_events_count_last_14days|m_avg_snp_media_events_count_last_30days|m_max_snp_media_events_count_last_30days|m_stddev_snp_media_events_count_last_30days|m_sum_snp_media_events_count_last_30days|m_avg_snp_media_events_count_last_60days|m_max_snp_media_events_count_last_60days|m_stddev_snp_media_events_count_last_60days|m_sum_snp_media_events_count_last_60days|\n",
      "+-------+--------------------+-------------------+------------------+------------------+-----------+------------------+--------+-----------------+------------------+----------------------+---------------------------------------+---------------------------------------+------------------------------------------+---------------------------------------+---------------------------------------+---------------------------------------+------------------------------------------+---------------------------------------+---------------------------------------+---------------------------------------+------------------------------------------+---------------------------------------+---------------------------------------+---------------------------------------+------------------------------------------+---------------------------------------+---------------------------------------+---------------------------------------+------------------------------------------+---------------------------------------+---------------------------------------+---------------------------------------+------------------------------------------+---------------------------------------+---------------------------------------+---------------------------------------+------------------------------------------+---------------------------------------+----------------------------------------+----------------------------------------+-------------------------------------------+----------------------------------------+----------------------------------------+----------------------------------------+-------------------------------------------+----------------------------------------+----------------------------------------+----------------------------------------+-------------------------------------------+----------------------------------------+\n",
      "|  count|              700321|             700321|            700321|            700321|     700321|            700321|  700321|           700321|            700321|                700321|                                 700320|                                 700320|                                    700319|                                 700320|                                 700320|                                 700320|                                    700319|                                 700320|                                 700320|                                 700320|                                    700319|                                 700320|                                 700320|                                 700320|                                    700319|                                 700320|                                 700320|                                 700320|                                    700319|                                 700320|                                 698881|                                 698881|                                    697441|                                 698881|                                 698881|                                 698881|                                    697441|                                 698881|                                  698881|                                  698881|                                     697441|                                  698881|                                  698881|                                  698881|                                     697441|                                  698881|                                  698881|                                  698881|                                     697441|                                  698881|\n",
      "|   mean|         1.6620048E9|               NULL|2022.2494870209518|5.5284433852476225|       NULL|15.632605619423094|    NULL|11.49451180244488|29.499957876459508|   0.22280782669661484|                    0.22280814484810418|                     1.7151730637422893|                       0.49516452164361513|                     3.3421221727210417|                    0.22280814484807693|                     2.4762508567511996|                        0.5528690961257317|                     6.6842443454420835|                    0.22280814484805184|                      2.991819453963902|                        0.5793466206761484|                     10.026366518163126|                    0.22280814484805403|                     3.4046250285583732|                        0.5965968019410586|                     13.368488690884167|                    0.22280814484804723|                      5.300903872515422|                        0.6488758358748336|                     40.105466072652504|                      321.5043476643403|                      440.7397539781451|                        126.79017070210219|                      964.5130429930131|                     321.50434766432255|                      518.7355214979374|                        171.15962227868522|                      2250.530433650364|                      321.50434766433347|                       565.2127901602705|                          170.3195555342032|                       4501.060867300728|                      321.50434766434444|                       621.7903190958117|                          176.2660197340364|                       9645.130429930132|                      321.50434766432033|                       698.2036712974026|                          190.5948936037844|                      19290.260859860264|\n",
      "| stddev|1.2129924196323134E7|               NULL|0.4327164368222955|3.4992969185113143|       NULL|  8.79277361672836|    NULL|6.923241720859693| 17.31813815948792|    0.9580449013747925|                    0.35354100807434946|                     2.8439734376991916|                        0.7773711127686435|                      5.303115121115228|                     0.3103191184130078|                      3.595137574305171|                        0.7377121945048847|                       9.30957355239021|                     0.2951417966841868|                      4.099196758349734|                        0.7169249145727197|                     13.281380850788416|                    0.28643137056315304|                      4.495097001713888|                        0.7028851593321368|                      17.18588223378917|                     0.2638997001586761|                     6.3224830326041515|                         0.657196759576413|                      47.50194602856164|                      231.5232555089446|                      286.6921144959943|                        109.98057939066211|                      694.5697665268366|                     194.84127984133465|                     312.57201073942986|                        104.40173838126442|                     1363.8889588893414|                       190.8182368848513|                       325.1508928293181|                          98.83804423509426|                      2671.4553163879314|                       184.7028605786297|                        324.471537799199|                          92.52219130768279|                       5541.085817358936|                      173.60041118176125|                       295.6199745878395|                          81.76655111061162|                      10416.024670905708|\n",
      "|    min|          1640995200|2022-01-01 00:00:00|              2022|                 1|        Fri|                 1|00:00:00|                0|                 0|                     0|                                    0.0|                                      0|                                       0.0|                                      0|                                    0.0|                                      0|                                       0.0|                                      0|                                    0.0|                                      0|                                       0.0|                                      0|                                    0.0|                                      0|                                       0.0|                                      0|                                    0.0|                                      0|                                       0.0|                                      0|                                    0.0|                                      0|                                       0.0|                                      0|                                    0.0|                                      0|                                       0.0|                                      0|                                     0.0|                                       0|                                        0.0|                                       0|                                     0.0|                                       0|                                        0.0|                                       0|                                     0.0|                                       0|                                        0.0|                                       0|\n",
      "|    25%|          1651501140|               NULL|              2022|                 3|       NULL|                 8|    NULL|                5|                15|                     0|                                    0.0|                                      0|                                       0.0|                                      0|                                    0.0|                                      0|                                       0.0|                                      0|                                    0.0|                                      0|                                       0.0|                                      0|                                    0.0|                                      0|                                       0.0|                                      0|                                    0.0|                                      0|                                       0.0|                                      0|                      9.333333333333334|                                     28|                        5.8594652770823155|                                     28|                      47.57142857142857|                                    154|                        52.287210491212676|                                    333|                      104.78571428571429|                                     590|                         166.84203228282655|                                    1467|                      168.63333333333333|                                     651|                          186.6029530017291|                                    5059|                      191.91666666666666|                                     718|                          193.5519280969748|                                   11515|\n",
      "|    50%|          1662007080|               NULL|              2022|                 5|       NULL|                16|    NULL|               11|                29|                     0|                    0.06666666666666667|                                      1|                        0.2581988897471611|                                      1|                    0.06666666666666667|                                      1|                        0.3651483716701107|                                      2|                    0.08888888888888889|                                      2|                       0.38270699819136633|                                      4|                                    0.1|                                      2|                        0.4184987968176887|                                      6|                     0.1111111111111111|                                      4|                        0.5196032961314947|                                     20|                                  331.0|                                    533|                        111.09605453540344|                                    993|                                  410.0|                                    642|                         210.0043083458278|                                   2870|                      411.57142857142856|                                     715|                          204.9874962683666|                                    5762|                                   413.8|                                     726|                         206.38509925719515|                                   12414|                      407.18333333333334|                                     784|                         225.05096158589163|                                   24431|\n",
      "|    75%|          1672509480|               NULL|              2022|                 9|       NULL|                23|    NULL|               17|                44|                     0|                     0.3333333333333333|                                      3|                        0.7745966692414834|                                      5|                     0.3333333333333333|                                      4|                        0.8840866447369844|                                     10|                    0.35555555555555557|                                      4|                        0.9183868157994992|                                     16|                                   0.35|                                      5|                        0.9442062400391208|                                     21|                    0.36666666666666664|                                      8|                        1.0274929563237158|                                     66|                                  519.0|                                    651|                         217.7245966812202|                                   1557|                                  453.0|                                    718|                           239.99702379107|                                   3171|                      446.85714285714283|                                     789|                          237.1458493125145|                                    6256|                      452.93333333333334|                                     839|                         237.97465575478662|                                   13588|                                  452.55|                                     881|                           238.810647043307|                                   27153|\n",
      "|    max|          1683014400|2023-05-02 08:00:00|              2023|                12|        Wed|                31|23:59:00|               23|                59|                    86|                      7.733333333333333|                                     86|                        22.188156428921392|                                    116|                      5.033333333333333|                                     86|                        15.690834867863938|                                    151|                      4.022222222222222|                                     86|                        12.866957132849471|                                    181|                     3.0166666666666666|                                     86|                        11.148712271412089|                                    181|                     1.4833333333333334|                                     86|                         6.460621778733535|                                    267|                      841.6666666666666|                                    933|                         459.2355967619815|                                   2525|                      566.2857142857143|                                    933|                        325.98999400361384|                                   3964|                       537.4285714285714|                                     933|                          294.2611160102612|                                    7524|                                   523.3|                                     933|                         277.26834381652486|                                   15699|                                  486.05|                                     933|                         259.14898698939015|                                   29163|\n",
      "+-------+--------------------+-------------------+------------------+------------------+-----------+------------------+--------+-----------------+------------------+----------------------+---------------------------------------+---------------------------------------+------------------------------------------+---------------------------------------+---------------------------------------+---------------------------------------+------------------------------------------+---------------------------------------+---------------------------------------+---------------------------------------+------------------------------------------+---------------------------------------+---------------------------------------+---------------------------------------+------------------------------------------+---------------------------------------+---------------------------------------+---------------------------------------+------------------------------------------+---------------------------------------+---------------------------------------+---------------------------------------+------------------------------------------+---------------------------------------+---------------------------------------+---------------------------------------+------------------------------------------+---------------------------------------+----------------------------------------+----------------------------------------+-------------------------------------------+----------------------------------------+----------------------------------------+----------------------------------------+-------------------------------------------+----------------------------------------+----------------------------------------+----------------------------------------+-------------------------------------------+----------------------------------------+\n",
      "\n"
     ]
    }
   ],
   "source": [
    "\n",
    "media_df = spark.read.parquet(\"./data/DWH/dim_media/*.snappy.parquet\")\n",
    "\n",
    "media_df.printSchema()\n",
    "\n",
    "media_df.summary().show()\n",
    "\n",
    "media_df.createOrReplaceTempView(\"media_df\")"
   ]
  },
  {
   "cell_type": "code",
   "execution_count": 15,
   "id": "49c09569",
   "metadata": {},
   "outputs": [],
   "source": [
    "# Join both data freams \n",
    "features_1min = df.join(media_df, df[\"t_trade_epoch\"] == media_df[\"epoch\"])\\\n",
    ".select( \"time\",\n",
    "        \"open\",\n",
    "        \"high\",\n",
    "        \"low\",\n",
    "        \"close\",\n",
    "        \"volume\",\n",
    "        \"t_trade_epoch\",\n",
    "        \"t_trade_date\",\n",
    "        \"t_trade_hour\",\n",
    "        \"t_trade_minute\",\n",
    "        \"t_trade_day_of_week\",\n",
    "        \"t_trade_open_e\",\n",
    "        \"t_trade_open_h\",\n",
    "        \"t_trade_close_e\",\n",
    "        \"t_trade_close_h\",\n",
    "        \"t_time_diff_between_trade_and_open_in_sec\",\n",
    "        \"t_trade_part\",\n",
    "        \"t_trade_part_open_e\",\n",
    "        \"t_trade_part_open_h\",\n",
    "        \"t_time_diff_between_trade_and_trade_part_open_in_sec\",\n",
    "        \"t_precent_of_time_from_start_of_trade_pase\",\n",
    "        \"t_precent_of_time_from_start_of_trade_day\",\n",
    "        \"p_min_open_price_for_last_3min\",\n",
    "        \"p_avg_open_price_for_last_3min\",\n",
    "        \"p_max_open_price_for_last_3min\",\n",
    "        \"p_stddev_open_price_for_last_3min\",\n",
    "        \"p_min_open_price_for_last_5min\",\n",
    "        \"p_avg_open_price_for_last_5min\",\n",
    "        \"p_max_open_price_for_last_5min\",\n",
    "        \"p_stddev_open_price_for_last_5min\",\n",
    "        \"p_min_open_price_for_last_10min\",\n",
    "        \"p_avg_open_price_for_last_10min\",\n",
    "        \"p_max_open_price_for_last_10min\",\n",
    "        \"p_stddev_open_price_for_last_10min\",\n",
    "        \"p_min_high_price_for_last_3min\",\n",
    "        \"p_avg_high_price_for_last_3min\",\n",
    "        \"p_max_high_price_for_last_3min\",\n",
    "        \"p_stddev_high_price_for_last_3min\",\n",
    "        \"p_min_high_price_for_last_5min\",\n",
    "        \"p_avg_high_price_for_last_5min\",\n",
    "        \"p_max_high_price_for_last_5min\",\n",
    "        \"p_stddev_high_price_for_last_5min\",\n",
    "        \"p_min_high_price_for_last_10min\",\n",
    "        \"p_avg_high_price_for_last_10min\",\n",
    "        \"p_max_high_price_for_last_10min\",\n",
    "        \"p_stddev_high_price_for_last_10min\",\n",
    "        \"p_min_low_price_for_last_3min\",\n",
    "        \"p_avg_low_price_for_last_3min\",\n",
    "        \"p_max_low_price_for_last_3min\",\n",
    "        \"p_stddev_low_price_for_last_3min\",\n",
    "        \"p_min_low_price_for_last_5min\",\n",
    "        \"p_avg_low_price_for_last_5min\",\n",
    "        \"p_max_low_price_for_last_5min\",\n",
    "        \"p_stddev_low_price_for_last_5min\",\n",
    "        \"p_min_low_price_for_last_10min\",\n",
    "        \"p_avg_low_price_for_last_10min\",\n",
    "        \"p_max_low_price_for_last_10min\",\n",
    "        \"p_stddev_low_price_for_last_10min\",\n",
    "        \"p_min_close_price_for_last_3min\",\n",
    "        \"p_avg_close_price_for_last_3min\",\n",
    "        \"p_max_close_price_for_last_3min\",\n",
    "        \"p_stddev_close_price_for_last_3min\",\n",
    "        \"p_min_close_price_for_last_5min\",\n",
    "        \"p_avg_close_price_for_last_5min\",\n",
    "        \"p_max_close_price_for_last_5min\",\n",
    "        \"p_stddev_close_price_for_last_5min\",\n",
    "        \"p_min_close_price_for_last_10min\",\n",
    "        \"p_avg_close_price_for_last_10min\",\n",
    "        \"p_max_close_price_for_last_10min\",\n",
    "        \"p_stddev_close_price_for_last_10min\",\n",
    "        \"p_min_volume_price_for_last_3min\",\n",
    "        \"p_avg_volume_price_for_last_3min\",\n",
    "        \"p_max_volume_price_for_last_3min\",\n",
    "        \"p_stddev_volume_price_for_last_3min\",\n",
    "        \"p_min_volume_price_for_last_5min\",\n",
    "        \"p_avg_volume_price_for_last_5min\",\n",
    "        \"p_max_volume_price_for_last_5min\",\n",
    "        \"p_stddev_volume_price_for_last_5min\",\n",
    "        \"p_min_volume_price_for_last_10min\",\n",
    "        \"p_avg_volume_price_for_last_10min\",\n",
    "        \"p_max_volume_price_for_last_10min\",\n",
    "        \"p_stddev_volume_price_for_last_10min\",\n",
    "        \"snp_media_events_count\",\n",
    "        \"m_avg_snp_media_events_count_last_15min\",\n",
    "        \"m_max_snp_media_events_count_last_15min\",\n",
    "        \"m_stddev_snp_media_events_count_last_15min\",\n",
    "        \"m_sum_snp_media_events_count_last_15min\",\n",
    "        \"m_avg_snp_media_events_count_last_30min\",\n",
    "        \"m_max_snp_media_events_count_last_30min\",\n",
    "        \"m_stddev_snp_media_events_count_last_30min\",\n",
    "        \"m_sum_snp_media_events_count_last_30min\",\n",
    "        \"m_avg_snp_media_events_count_last_45min\",\n",
    "        \"m_max_snp_media_events_count_last_45min\",\n",
    "        \"m_stddev_snp_media_events_count_last_45min\",\n",
    "        \"m_sum_snp_media_events_count_last_45min\",\n",
    "        \"m_avg_snp_media_events_count_last_1hour\",\n",
    "        \"m_max_snp_media_events_count_last_1hour\",\n",
    "        \"m_stddev_snp_media_events_count_last_1hour\",\n",
    "        \"m_sum_snp_media_events_count_last_1hour\",\n",
    "        \"m_avg_snp_media_events_count_last_3hour\",\n",
    "        \"m_max_snp_media_events_count_last_3hour\",\n",
    "        \"m_stddev_snp_media_events_count_last_3hour\",\n",
    "        \"m_sum_snp_media_events_count_last_3hour\",\n",
    "        \"m_avg_snp_media_events_count_last_3days\",\n",
    "        \"m_max_snp_media_events_count_last_3days\",\n",
    "        \"m_stddev_snp_media_events_count_last_3days\",\n",
    "        \"m_sum_snp_media_events_count_last_3days\",\n",
    "        \"m_avg_snp_media_events_count_last_7days\",\n",
    "        \"m_max_snp_media_events_count_last_7days\",\n",
    "        \"m_stddev_snp_media_events_count_last_7days\",\n",
    "        \"m_sum_snp_media_events_count_last_7days\",\n",
    "        \"m_avg_snp_media_events_count_last_14days\",\n",
    "        \"m_max_snp_media_events_count_last_14days\",\n",
    "        \"m_stddev_snp_media_events_count_last_14days\",\n",
    "        \"m_sum_snp_media_events_count_last_14days\",\n",
    "        \"m_avg_snp_media_events_count_last_30days\",\n",
    "        \"m_max_snp_media_events_count_last_30days\",\n",
    "        \"m_stddev_snp_media_events_count_last_30days\",\n",
    "        \"m_sum_snp_media_events_count_last_30days\",\n",
    "        \"m_avg_snp_media_events_count_last_60days\",\n",
    "        \"m_max_snp_media_events_count_last_60days\",\n",
    "        \"m_stddev_snp_media_events_count_last_60days\",\n",
    "        \"m_sum_snp_media_events_count_last_60days\") \\\n",
    "# .printSchema()"
   ]
  },
  {
   "cell_type": "code",
   "execution_count": 16,
   "id": "bffb149e",
   "metadata": {},
   "outputs": [],
   "source": [
    "# features_1min.write.mode(\"overwrite\").parquet(\"./data/DWH/features_1min\")\n",
    "\n",
    "# features_1min.write.mode(\"overwrite\").csv(\"./data/DWH/features_1min_csv\")"
   ]
  },
  {
   "cell_type": "code",
   "execution_count": 17,
   "id": "b4f092c3",
   "metadata": {},
   "outputs": [
    {
     "name": "stdout",
     "output_type": "stream",
     "text": [
      "root\n",
      " |-- time: timestamp (nullable = true)\n",
      " |-- open: double (nullable = true)\n",
      " |-- high: double (nullable = true)\n",
      " |-- low: double (nullable = true)\n",
      " |-- close: double (nullable = true)\n",
      " |-- volume: integer (nullable = true)\n",
      " |-- t_trade_epoch: long (nullable = true)\n",
      " |-- t_trade_date: date (nullable = true)\n",
      " |-- t_trade_hour: integer (nullable = true)\n",
      " |-- t_trade_minute: integer (nullable = true)\n",
      " |-- t_trade_day_of_week: integer (nullable = true)\n",
      " |-- t_trade_open_e: long (nullable = true)\n",
      " |-- t_trade_open_h: integer (nullable = true)\n",
      " |-- t_trade_close_e: long (nullable = true)\n",
      " |-- t_trade_close_h: integer (nullable = true)\n",
      " |-- t_time_diff_between_trade_and_open_in_sec: long (nullable = true)\n",
      " |-- t_trade_part: integer (nullable = false)\n",
      " |-- t_trade_part_open_e: long (nullable = true)\n",
      " |-- t_trade_part_open_h: integer (nullable = true)\n",
      " |-- t_time_diff_between_trade_and_trade_part_open_in_sec: long (nullable = true)\n",
      " |-- t_precent_of_time_from_start_of_trade_pase: double (nullable = true)\n",
      " |-- t_precent_of_time_from_start_of_trade_day: double (nullable = true)\n",
      " |-- p_min_open_price_for_last_3min: double (nullable = false)\n",
      " |-- p_avg_open_price_for_last_3min: double (nullable = false)\n",
      " |-- p_max_open_price_for_last_3min: double (nullable = false)\n",
      " |-- p_stddev_open_price_for_last_3min: double (nullable = false)\n",
      " |-- p_min_open_price_for_last_5min: double (nullable = false)\n",
      " |-- p_avg_open_price_for_last_5min: double (nullable = false)\n",
      " |-- p_max_open_price_for_last_5min: double (nullable = false)\n",
      " |-- p_stddev_open_price_for_last_5min: double (nullable = false)\n",
      " |-- p_min_open_price_for_last_10min: double (nullable = false)\n",
      " |-- p_avg_open_price_for_last_10min: double (nullable = false)\n",
      " |-- p_max_open_price_for_last_10min: double (nullable = false)\n",
      " |-- p_stddev_open_price_for_last_10min: double (nullable = false)\n",
      " |-- p_min_high_price_for_last_3min: double (nullable = false)\n",
      " |-- p_avg_high_price_for_last_3min: double (nullable = false)\n",
      " |-- p_max_high_price_for_last_3min: double (nullable = false)\n",
      " |-- p_stddev_high_price_for_last_3min: double (nullable = false)\n",
      " |-- p_min_high_price_for_last_5min: double (nullable = false)\n",
      " |-- p_avg_high_price_for_last_5min: double (nullable = false)\n",
      " |-- p_max_high_price_for_last_5min: double (nullable = false)\n",
      " |-- p_stddev_high_price_for_last_5min: double (nullable = false)\n",
      " |-- p_min_high_price_for_last_10min: double (nullable = false)\n",
      " |-- p_avg_high_price_for_last_10min: double (nullable = false)\n",
      " |-- p_max_high_price_for_last_10min: double (nullable = false)\n",
      " |-- p_stddev_high_price_for_last_10min: double (nullable = false)\n",
      " |-- p_min_low_price_for_last_3min: double (nullable = false)\n",
      " |-- p_avg_low_price_for_last_3min: double (nullable = false)\n",
      " |-- p_max_low_price_for_last_3min: double (nullable = false)\n",
      " |-- p_stddev_low_price_for_last_3min: double (nullable = false)\n",
      " |-- p_min_low_price_for_last_5min: double (nullable = false)\n",
      " |-- p_avg_low_price_for_last_5min: double (nullable = false)\n",
      " |-- p_max_low_price_for_last_5min: double (nullable = false)\n",
      " |-- p_stddev_low_price_for_last_5min: double (nullable = false)\n",
      " |-- p_min_low_price_for_last_10min: double (nullable = false)\n",
      " |-- p_avg_low_price_for_last_10min: double (nullable = false)\n",
      " |-- p_max_low_price_for_last_10min: double (nullable = false)\n",
      " |-- p_stddev_low_price_for_last_10min: double (nullable = false)\n",
      " |-- p_min_close_price_for_last_3min: double (nullable = false)\n",
      " |-- p_avg_close_price_for_last_3min: double (nullable = false)\n",
      " |-- p_max_close_price_for_last_3min: double (nullable = false)\n",
      " |-- p_stddev_close_price_for_last_3min: double (nullable = false)\n",
      " |-- p_min_close_price_for_last_5min: double (nullable = false)\n",
      " |-- p_avg_close_price_for_last_5min: double (nullable = false)\n",
      " |-- p_max_close_price_for_last_5min: double (nullable = false)\n",
      " |-- p_stddev_close_price_for_last_5min: double (nullable = false)\n",
      " |-- p_min_close_price_for_last_10min: double (nullable = false)\n",
      " |-- p_avg_close_price_for_last_10min: double (nullable = false)\n",
      " |-- p_max_close_price_for_last_10min: double (nullable = false)\n",
      " |-- p_stddev_close_price_for_last_10min: double (nullable = false)\n",
      " |-- p_min_volume_price_for_last_3min: integer (nullable = true)\n",
      " |-- p_avg_volume_price_for_last_3min: double (nullable = false)\n",
      " |-- p_max_volume_price_for_last_3min: integer (nullable = true)\n",
      " |-- p_stddev_volume_price_for_last_3min: double (nullable = false)\n",
      " |-- p_min_volume_price_for_last_5min: integer (nullable = true)\n",
      " |-- p_avg_volume_price_for_last_5min: double (nullable = false)\n",
      " |-- p_max_volume_price_for_last_5min: integer (nullable = true)\n",
      " |-- p_stddev_volume_price_for_last_5min: double (nullable = false)\n",
      " |-- p_min_volume_price_for_last_10min: integer (nullable = true)\n",
      " |-- p_avg_volume_price_for_last_10min: double (nullable = false)\n",
      " |-- p_max_volume_price_for_last_10min: integer (nullable = true)\n",
      " |-- p_stddev_volume_price_for_last_10min: double (nullable = false)\n",
      " |-- snp_media_events_count: long (nullable = true)\n",
      " |-- m_avg_snp_media_events_count_last_15min: double (nullable = true)\n",
      " |-- m_max_snp_media_events_count_last_15min: long (nullable = true)\n",
      " |-- m_stddev_snp_media_events_count_last_15min: double (nullable = true)\n",
      " |-- m_sum_snp_media_events_count_last_15min: long (nullable = true)\n",
      " |-- m_avg_snp_media_events_count_last_30min: double (nullable = true)\n",
      " |-- m_max_snp_media_events_count_last_30min: long (nullable = true)\n",
      " |-- m_stddev_snp_media_events_count_last_30min: double (nullable = true)\n",
      " |-- m_sum_snp_media_events_count_last_30min: long (nullable = true)\n",
      " |-- m_avg_snp_media_events_count_last_45min: double (nullable = true)\n",
      " |-- m_max_snp_media_events_count_last_45min: long (nullable = true)\n",
      " |-- m_stddev_snp_media_events_count_last_45min: double (nullable = true)\n",
      " |-- m_sum_snp_media_events_count_last_45min: long (nullable = true)\n",
      " |-- m_avg_snp_media_events_count_last_1hour: double (nullable = true)\n",
      " |-- m_max_snp_media_events_count_last_1hour: long (nullable = true)\n",
      " |-- m_stddev_snp_media_events_count_last_1hour: double (nullable = true)\n",
      " |-- m_sum_snp_media_events_count_last_1hour: long (nullable = true)\n",
      " |-- m_avg_snp_media_events_count_last_3hour: double (nullable = true)\n",
      " |-- m_max_snp_media_events_count_last_3hour: long (nullable = true)\n",
      " |-- m_stddev_snp_media_events_count_last_3hour: double (nullable = true)\n",
      " |-- m_sum_snp_media_events_count_last_3hour: long (nullable = true)\n",
      " |-- m_avg_snp_media_events_count_last_3days: double (nullable = true)\n",
      " |-- m_max_snp_media_events_count_last_3days: long (nullable = true)\n",
      " |-- m_stddev_snp_media_events_count_last_3days: double (nullable = true)\n",
      " |-- m_sum_snp_media_events_count_last_3days: long (nullable = true)\n",
      " |-- m_avg_snp_media_events_count_last_7days: double (nullable = true)\n",
      " |-- m_max_snp_media_events_count_last_7days: long (nullable = true)\n",
      " |-- m_stddev_snp_media_events_count_last_7days: double (nullable = true)\n",
      " |-- m_sum_snp_media_events_count_last_7days: long (nullable = true)\n",
      " |-- m_avg_snp_media_events_count_last_14days: double (nullable = true)\n",
      " |-- m_max_snp_media_events_count_last_14days: long (nullable = true)\n",
      " |-- m_stddev_snp_media_events_count_last_14days: double (nullable = true)\n",
      " |-- m_sum_snp_media_events_count_last_14days: long (nullable = true)\n",
      " |-- m_avg_snp_media_events_count_last_30days: double (nullable = true)\n",
      " |-- m_max_snp_media_events_count_last_30days: long (nullable = true)\n",
      " |-- m_stddev_snp_media_events_count_last_30days: double (nullable = true)\n",
      " |-- m_sum_snp_media_events_count_last_30days: long (nullable = true)\n",
      " |-- m_avg_snp_media_events_count_last_60days: double (nullable = true)\n",
      " |-- m_max_snp_media_events_count_last_60days: long (nullable = true)\n",
      " |-- m_stddev_snp_media_events_count_last_60days: double (nullable = true)\n",
      " |-- m_sum_snp_media_events_count_last_60days: long (nullable = true)\n",
      "\n"
     ]
    }
   ],
   "source": [
    "features_1min.printSchema()"
   ]
  },
  {
   "cell_type": "code",
   "execution_count": 18,
   "id": "024b9cd6",
   "metadata": {},
   "outputs": [
    {
     "name": "stderr",
     "output_type": "stream",
     "text": [
      "                                                                                \r"
     ]
    }
   ],
   "source": [
    "\n",
    "features_1min.orderBy(\"t_trade_epoch\").coalesce(1).write.mode(\"overwrite\").csv(path=\"./data/DWH/new_features_1min_csv\",header=True)\n",
    "# df.orderBy(\"\").coalesce(1).write.csv(\"address\")\n",
    "# df.repartition(1).write.csv(\"address\")\n"
   ]
  },
  {
   "cell_type": "code",
   "execution_count": 21,
   "id": "97e0d7cc",
   "metadata": {},
   "outputs": [
    {
     "name": "stdout",
     "output_type": "stream",
     "text": [
      "time,open,high,low,close,volume,t_trade_epoch,t_trade_date,t_trade_hour,t_trade_minute,t_trade_day_of_week,t_trade_open_e,t_trade_open_h,t_trade_close_e,t_trade_close_h,t_time_diff_between_trade_and_open_in_sec,t_trade_part,t_trade_part_open_e,t_trade_part_open_h,t_time_diff_between_trade_and_trade_part_open_in_sec,t_precent_of_time_from_start_of_trade_pase,t_precent_of_time_from_start_of_trade_day,p_min_open_price_for_last_3min,p_avg_open_price_for_last_3min,p_max_open_price_for_last_3min,p_stddev_open_price_for_last_3min,p_min_open_price_for_last_5min,p_avg_open_price_for_last_5min,p_max_open_price_for_last_5min,p_stddev_open_price_for_last_5min,p_min_open_price_for_last_10min,p_avg_open_price_for_last_10min,p_max_open_price_for_last_10min,p_stddev_open_price_for_last_10min,p_min_high_price_for_last_3min,p_avg_high_price_for_last_3min,p_max_high_price_for_last_3min,p_stddev_high_price_for_last_3min,p_min_high_price_for_last_5min,p_avg_high_price_for_last_5min,p_max_high_price_for_last_5min,p_stddev_high_price_for_last_5min,p_min_high_price_for_last_10min,p_avg_high_price_for_last_10min,p_max_high_price_for_last_10min,p_stddev_high_price_for_last_10min,p_min_low_price_for_last_3min,p_avg_low_price_for_last_3min,p_max_low_price_for_last_3min,p_stddev_low_price_for_last_3min,p_min_low_price_for_last_5min,p_avg_low_price_for_last_5min,p_max_low_price_for_last_5min,p_stddev_low_price_for_last_5min,p_min_low_price_for_last_10min,p_avg_low_price_for_last_10min,p_max_low_price_for_last_10min,p_stddev_low_price_for_last_10min,p_min_close_price_for_last_3min,p_avg_close_price_for_last_3min,p_max_close_price_for_last_3min,p_stddev_close_price_for_last_3min,p_min_close_price_for_last_5min,p_avg_close_price_for_last_5min,p_max_close_price_for_last_5min,p_stddev_close_price_for_last_5min,p_min_close_price_for_last_10min,p_avg_close_price_for_last_10min,p_max_close_price_for_last_10min,p_stddev_close_price_for_last_10min,p_min_volume_price_for_last_3min,p_avg_volume_price_for_last_3min,p_max_volume_price_for_last_3min,p_stddev_volume_price_for_last_3min,p_min_volume_price_for_last_5min,p_avg_volume_price_for_last_5min,p_max_volume_price_for_last_5min,p_stddev_volume_price_for_last_5min,p_min_volume_price_for_last_10min,p_avg_volume_price_for_last_10min,p_max_volume_price_for_last_10min,p_stddev_volume_price_for_last_10min,snp_media_events_count,m_avg_snp_media_events_count_last_15min,m_max_snp_media_events_count_last_15min,m_stddev_snp_media_events_count_last_15min,m_sum_snp_media_events_count_last_15min,m_avg_snp_media_events_count_last_30min,m_max_snp_media_events_count_last_30min,m_stddev_snp_media_events_count_last_30min,m_sum_snp_media_events_count_last_30min,m_avg_snp_media_events_count_last_45min,m_max_snp_media_events_count_last_45min,m_stddev_snp_media_events_count_last_45min,m_sum_snp_media_events_count_last_45min,m_avg_snp_media_events_count_last_1hour,m_max_snp_media_events_count_last_1hour,m_stddev_snp_media_events_count_last_1hour,m_sum_snp_media_events_count_last_1hour,m_avg_snp_media_events_count_last_3hour,m_max_snp_media_events_count_last_3hour,m_stddev_snp_media_events_count_last_3hour,m_sum_snp_media_events_count_last_3hour,m_avg_snp_media_events_count_last_3days,m_max_snp_media_events_count_last_3days,m_stddev_snp_media_events_count_last_3days,m_sum_snp_media_events_count_last_3days,m_avg_snp_media_events_count_last_7days,m_max_snp_media_events_count_last_7days,m_stddev_snp_media_events_count_last_7days,m_sum_snp_media_events_count_last_7days,m_avg_snp_media_events_count_last_14days,m_max_snp_media_events_count_last_14days,m_stddev_snp_media_events_count_last_14days,m_sum_snp_media_events_count_last_14days,m_avg_snp_media_events_count_last_30days,m_max_snp_media_events_count_last_30days,m_stddev_snp_media_events_count_last_30days,m_sum_snp_media_events_count_last_30days,m_avg_snp_media_events_count_last_60days,m_max_snp_media_events_count_last_60days,m_stddev_snp_media_events_count_last_60days,m_sum_snp_media_events_count_last_60days\r\n",
      "2022-01-03T04:01:00.000Z,468.75382797569796,469.2851833371885,468.75382797569796,469.0391854846466,7790,1641182460,2022-01-03,4,1,2,1641182460,4,1641240000,20,0,0,1641182460,4,0,0.0,0.0,0.0,0.0,0.0,0.0,0.0,0.0,0.0,0.0,0.0,0.0,0.0,0.0,0.0,0.0,0.0,0.0,0.0,0.0,0.0,0.0,0.0,0.0,0.0,0.0,0.0,0.0,0.0,0.0,0.0,0.0,0.0,0.0,0.0,0.0,0.0,0.0,0.0,0.0,0.0,0.0,0.0,0.0,0.0,0.0,0.0,0.0,0.0,0.0,0,0.0,0,0.0,0,0.0,0,0.0,0,0.0,0,0.0,0,0.0,0,0.0,0,0.0,0,0.0,0,0.0,0,0.0,0,0.0,0,0.0,0,0.0,0,0.0,0,0.0,0,0.0,0,0.0,0,0.0,0,0.0,0,0.0,0,0.0,0,0.0,0,0.0,0,0.0,0\r\n",
      "2022-01-03T04:02:00.000Z,469.0391854846466,469.0391854846466,469.0391854846466,469.0391854846466,116,1641182520,2022-01-03,4,2,2,1641182460,4,1641240000,20,60,0,1641182460,4,60,0.303951367781155,0.10427528675703858,468.75382797569796,468.75382797569796,468.75382797569796,0.0,468.75382797569796,468.75382797569796,468.75382797569796,0.0,468.75382797569796,468.75382797569796,468.75382797569796,0.0,469.2851833371885,469.2851833371885,469.2851833371885,0.0,469.2851833371885,469.2851833371885,469.2851833371885,0.0,469.2851833371885,469.2851833371885,469.2851833371885,0.0,468.75382797569796,468.75382797569796,468.75382797569796,0.0,468.75382797569796,468.75382797569796,468.75382797569796,0.0,468.75382797569796,468.75382797569796,468.75382797569796,0.0,469.0391854846466,469.0391854846466,469.0391854846466,0.0,469.0391854846466,469.0391854846466,469.0391854846466,0.0,469.0391854846466,469.0391854846466,469.0391854846466,0.0,7790,7790.0,7790,0.0,7790,7790.0,7790,0.0,7790,7790.0,7790,0.0,0,0.0,0,0.0,0,0.0,0,0.0,0,0.0,0,0.0,0,0.0,0,0.0,0,0.0,0,0.0,0,0.0,0,0.0,0,0.0,0,0.0,0,0.0,0,0.0,0,0.0,0,0.0,0,0.0,0,0.0,0\r\n",
      "2022-01-03T04:03:00.000Z,468.99982582823986,468.99982582823986,468.97030608593485,468.97030608593485,410,1641182580,2022-01-03,4,3,2,1641182460,4,1641240000,20,120,0,1641182460,4,120,0.60790273556231,0.20855057351407716,468.75382797569796,468.8965067301723,469.0391854846466,0.2017782296401012,468.75382797569796,468.8965067301723,469.0391854846466,0.2017782296401012,468.75382797569796,468.8965067301723,469.0391854846466,0.2017782296401012,469.0391854846466,469.1621844109176,469.2851833371885,0.17394674968970916,469.0391854846466,469.1621844109176,469.2851833371885,0.17394674968970916,469.0391854846466,469.1621844109176,469.2851833371885,0.17394674968970916,468.75382797569796,468.8965067301723,469.0391854846466,0.2017782296401012,468.75382797569796,468.8965067301723,469.0391854846466,0.2017782296401012,468.75382797569796,468.8965067301723,469.0391854846466,0.2017782296401012,469.0391854846466,469.0391854846466,469.0391854846466,0.0,469.0391854846466,469.0391854846466,469.0391854846466,0.0,469.0391854846466,469.0391854846466,469.0391854846466,0.0,116,3953.0,7790,5426.337438825566,116,3953.0,7790,5426.337438825566,116,3953.0,7790,5426.337438825566,0,0.0,0,0.0,0,0.0,0,0.0,0,0.0,0,0.0,0,0.0,0,0.0,0,0.0,0,0.0,0,0.0,0,0.0,0,0.0,0,0.0,0,0.0,0,0.0,0,0.0,0,0.0,0,0.0,0,0.0,0\r\n",
      "2022-01-03T04:04:00.000Z,468.95062625773147,468.95062625773147,468.85222711671474,468.93094642952815,708,1641182640,2022-01-03,4,4,2,1641182460,4,1641240000,20,180,0,1641182460,4,180,0.911854103343465,0.31282586027111575,468.75382797569796,468.93094642952815,469.0391854846466,0.15464638907362913,468.75382797569796,468.93094642952815,469.0391854846466,0.15464638907362913,468.75382797569796,468.93094642952815,469.0391854846466,0.15464638907362913,468.99982582823986,469.10806488335834,469.2851833371885,0.15464638907362913,468.99982582823986,469.10806488335834,469.2851833371885,0.15464638907362913,468.99982582823986,469.10806488335834,469.2851833371885,0.15464638907362913,468.75382797569796,468.9211065154265,469.0391854846466,0.14890492027466054,468.75382797569796,468.9211065154265,469.0391854846466,0.14890492027466054,468.75382797569796,468.9211065154265,469.0391854846466,0.14890492027466054,468.97030608593485,469.01622568507605,469.0391854846466,0.0397675393878611,468.97030608593485,469.01622568507605,469.0391854846466,0.0397675393878611,468.97030608593485,469.01622568507605,469.0391854846466,0.0397675393878611,116,2772.0,7790,4348.201007313254,116,2772.0,7790,4348.201007313254,116,2772.0,7790,4348.201007313254,0,0.0,0,0.0,0,0.0,0,0.0,0,0.0,0,0.0,0,0.0,0,0.0,0,0.0,0,0.0,0,0.0,0,0.0,0,0.0,0,0.0,0,0.0,0,0.0,0,0.0,0,0.0,0,0.0,0,0.0,0\r\n"
     ]
    }
   ],
   "source": [
    "!head -n 5 ./data/DWH/new_features_1min_csv/part-00000-011801cc-ded0-4036-b0f4-aeef100934dd-c000.csv\n"
   ]
  },
  {
   "cell_type": "code",
   "execution_count": null,
   "id": "cb3ced38",
   "metadata": {},
   "outputs": [],
   "source": []
  }
 ],
 "metadata": {
  "kernelspec": {
   "display_name": "Python 3 (ipykernel)",
   "language": "python",
   "name": "python3"
  },
  "language_info": {
   "codemirror_mode": {
    "name": "ipython",
    "version": 3
   },
   "file_extension": ".py",
   "mimetype": "text/x-python",
   "name": "python",
   "nbconvert_exporter": "python",
   "pygments_lexer": "ipython3",
   "version": "3.9.16"
  }
 },
 "nbformat": 4,
 "nbformat_minor": 5
}
