{
 "cells": [
  {
   "cell_type": "code",
   "execution_count": 1,
   "id": "9a3e3d88",
   "metadata": {
    "pycharm": {
     "name": "#%%\n"
    }
   },
   "outputs": [],
   "source": [
    "# !pip install findspark"
   ]
  },
  {
   "cell_type": "code",
   "execution_count": 1,
   "id": "18ea4a5a",
   "metadata": {
    "pycharm": {
     "name": "#%%\n"
    }
   },
   "outputs": [],
   "source": [
    "import findspark\n",
    "\n",
    "findspark.init()\n"
   ]
  },
  {
   "cell_type": "code",
   "execution_count": 2,
   "id": "23128c49",
   "metadata": {},
   "outputs": [
    {
     "name": "stdout",
     "output_type": "stream",
     "text": [
      "pre_trade_d - 19740.0\n",
      "trade_d - 23340.0\n",
      "post_trade_d - 14340\n"
     ]
    }
   ],
   "source": [
    "# Variables \n",
    "DATA_INTERVAL = 1 # 1 minute\n",
    "MIN = 60\n",
    "SEC = 60\n",
    "pre_trade_d = (5.5*(MIN*SEC)) - (DATA_INTERVAL*SEC)\n",
    "trade_d = 6.5*(MIN*SEC) - (DATA_INTERVAL*SEC)\n",
    "post_trade_d = 4*(MIN*SEC) - (DATA_INTERVAL*SEC)\n",
    "\n",
    "total_trade_d = pre_trade_d + trade_d + post_trade_d + (2*DATA_INTERVAL*SEC)\n",
    "\n",
    "pre_trade_ub = 5.5*(MIN*SEC)\n",
    "trade_ub = pre_trade_ub + 6.5*(MIN*SEC)\n",
    "post_trade_ub = trade_ub + 4*(MIN*SEC)\n",
    "\n",
    "print(f\"pre_trade_d - {pre_trade_d}\")\n",
    "print(f\"trade_d - {trade_d}\")\n",
    "print(f\"post_trade_d - {post_trade_d}\")\n"
   ]
  },
  {
   "cell_type": "code",
   "execution_count": 3,
   "id": "3d96d20f",
   "metadata": {
    "pycharm": {
     "name": "#%%\n"
    }
   },
   "outputs": [
    {
     "name": "stderr",
     "output_type": "stream",
     "text": [
      "23/07/08 20:23:05 WARN NativeCodeLoader: Unable to load native-hadoop library for your platform... using builtin-java classes where applicable\n",
      "Using Spark's default log4j profile: org/apache/spark/log4j-defaults.properties\n",
      "Setting default log level to \"WARN\".\n",
      "To adjust logging level use sc.setLogLevel(newLevel). For SparkR, use setLogLevel(newLevel).\n"
     ]
    }
   ],
   "source": [
    "import pyspark\n",
    "from pyspark.sql import SparkSession\n",
    "from pyspark.sql import functions as F\n",
    "from pyspark.sql.window import Window\n",
    "\n",
    "spark = SparkSession.builder \\\n",
    "          .appName('pre_process_1min_data') \\\n",
    "          .getOrCreate()\n"
   ]
  },
  {
   "cell_type": "code",
   "execution_count": 4,
   "id": "22e653e0",
   "metadata": {
    "pycharm": {
     "name": "#%%\n"
    }
   },
   "outputs": [
    {
     "name": "stdout",
     "output_type": "stream",
     "text": [
      "root\n",
      " |-- time: timestamp (nullable = true)\n",
      " |-- open: double (nullable = true)\n",
      " |-- high: double (nullable = true)\n",
      " |-- low: double (nullable = true)\n",
      " |-- close: double (nullable = true)\n",
      " |-- volume: integer (nullable = true)\n",
      "\n"
     ]
    }
   ],
   "source": [
    "from pyspark.sql.types import StructType, StructField, IntegerType, TimestampType, DoubleType\n",
    "\n",
    "schema = StructType([\n",
    "    StructField(\"time\", TimestampType()),\n",
    "    StructField(\"open\", DoubleType()),\n",
    "    StructField(\"high\", DoubleType()),\n",
    "    StructField(\"low\", DoubleType()),\n",
    "    StructField(\"close\", DoubleType()),\n",
    "    StructField(\"volume\", IntegerType())    \n",
    "])\n",
    "\n",
    "\n",
    "# Read csv files\n",
    "df = spark.read.option(\"header\",True).csv(\"./data/alpha_vantage/SPY/interval=1min/*\", schema=schema)\n",
    "\n",
    "df.printSchema()\n",
    "\n",
    "df.createOrReplaceTempView(\"df\")"
   ]
  },
  {
   "cell_type": "markdown",
   "id": "07ab2e38",
   "metadata": {},
   "source": [
    "## Adding Time Features\n"
   ]
  },
  {
   "cell_type": "code",
   "execution_count": 5,
   "id": "63f38985",
   "metadata": {},
   "outputs": [
    {
     "name": "stdout",
     "output_type": "stream",
     "text": [
      "root\n",
      " |-- time: timestamp (nullable = true)\n",
      " |-- open: double (nullable = true)\n",
      " |-- high: double (nullable = true)\n",
      " |-- low: double (nullable = true)\n",
      " |-- close: double (nullable = true)\n",
      " |-- volume: integer (nullable = true)\n",
      " |-- t_trade_epoch: long (nullable = true)\n",
      " |-- t_trade_date: date (nullable = true)\n",
      " |-- t_trade_hour: integer (nullable = true)\n",
      " |-- t_trade_minute: integer (nullable = true)\n",
      " |-- t_trade_day_of_week: string (nullable = true)\n",
      " |-- t_trade_open_e: long (nullable = true)\n",
      " |-- t_trade_open_h: integer (nullable = true)\n",
      " |-- t_trade_close_e: long (nullable = true)\n",
      " |-- t_trade_close_h: integer (nullable = true)\n",
      " |-- t_time_diff_between_trade_and_open_in_sec: long (nullable = true)\n",
      " |-- t_trade_part: string (nullable = false)\n",
      " |-- t_trade_part_open_e: long (nullable = true)\n",
      " |-- t_trade_part_open_h: integer (nullable = true)\n",
      " |-- t_time_diff_between_trade_and_trade_part_open_in_sec: long (nullable = true)\n",
      " |-- t_precent_of_time_from_start_of_trade_pase: double (nullable = true)\n",
      " |-- t_precent_of_time_from_start_of_trade_day: double (nullable = true)\n",
      "\n"
     ]
    }
   ],
   "source": [
    "# This column capture the time and date of SPY index price in epoch time.\n",
    "df = df.withColumn(\"t_trade_epoch\",F.unix_timestamp(\"time\"))\n",
    "\n",
    "# This column capture the date of SPY index price.\n",
    "df = df.withColumn(\"t_trade_date\", F.to_date(\"time\"))\n",
    "\n",
    "# This column capture the hour of SPY index price.\n",
    "df = df.withColumn(\"t_trade_hour\", F.hour(\"time\"))\n",
    "\n",
    "# This column capture the hour of SPY index price.\n",
    "df = df.withColumn(\"t_trade_minute\", F.minute(\"time\"))\n",
    "\n",
    "\n",
    "# This column capture the day of the week of SPY index price.\n",
    "df = df.withColumn(\"t_trade_day_of_week\", F.date_format(\"time\", 'E'))\n",
    "\n",
    "# e - epoch\n",
    "# This column capture the open epoch of SPY index price per day.\n",
    "df = df.withColumn(\"t_trade_open_e\", F.min(\"t_trade_epoch\").over(Window.partitionBy(\"t_trade_date\")))\n",
    "df = df.withColumn(\"t_trade_open_h\", F.hour(F.min(\"time\").over(Window.partitionBy(\"t_trade_date\"))))\n",
    "\n",
    "# This column capture the close epoch of SPY index price per day.\n",
    "df = df.withColumn(\"t_trade_close_e\", F.max(\"t_trade_epoch\").over(Window.partitionBy(\"t_trade_date\")))\n",
    "df = df.withColumn(\"t_trade_close_h\", F.hour(F.max(\"time\").over(Window.partitionBy(\"t_trade_date\"))))\n",
    "\n",
    "# This column capture the number of seconds pass from trade open and trade close.\n",
    "df = df.withColumn(\"t_time_diff_between_trade_and_open_in_sec\", F.col(\"t_trade_epoch\")-F.col(\"t_trade_open_e\"))\n",
    "\n",
    "# This column capture what part of the trade we are (pre trade, trade, post trade)\n",
    "df = df.withColumn(\"t_trade_part\", F.when(F.col(\"t_time_diff_between_trade_and_open_in_sec\") < pre_trade_ub,\"pre trade\")\n",
    ".when(F.col(\"t_time_diff_between_trade_and_open_in_sec\") < trade_ub,\"trade\")\n",
    ".when(F.col(\"t_time_diff_between_trade_and_open_in_sec\") <= post_trade_ub,\"post trade\")             \n",
    ".otherwise(\"Unknown\"))\n",
    "\n",
    "column_list = [\"t_trade_date\",\"t_trade_part\"]\n",
    "win_spec = Window.partitionBy([F.col(x) for x in column_list])\n",
    "\n",
    "# e - epoch\n",
    "# This column capture the open epoch of SPY index price per trading part in day.\n",
    "df = df.withColumn(\"t_trade_part_open_e\", F.min(\"t_trade_epoch\").over(win_spec))\n",
    "df = df.withColumn(\"t_trade_part_open_h\", F.hour(F.min(\"time\").over(win_spec)))\n",
    "\n",
    "# This column capture the number of seconds pass from trade part open and trade.\n",
    "df = df.withColumn(\"t_time_diff_between_trade_and_trade_part_open_in_sec\", F.col(\"t_trade_epoch\")-F.col(\"t_trade_part_open_e\"))\n",
    "\n",
    "df = df.withColumn(\"t_precent_of_time_from_start_of_trade_pase\", F.when(F.col(\"t_trade_part\") == \"pre trade\", F.col(\"t_time_diff_between_trade_and_trade_part_open_in_sec\")/pre_trade_d*100)\n",
    ".when(F.col(\"t_trade_part\") == \"trade\", F.col(\"t_time_diff_between_trade_and_trade_part_open_in_sec\")/trade_d*100)\n",
    ".when(F.col(\"t_trade_part\") == \"post trade\", F.col(\"t_time_diff_between_trade_and_trade_part_open_in_sec\")/post_trade_d*100)              \n",
    ".otherwise(-1))\n",
    "\n",
    "df = df.withColumn(\"t_precent_of_time_from_start_of_trade_day\", F.col(\"t_time_diff_between_trade_and_open_in_sec\")/total_trade_d*100)\n",
    "\n",
    "\n",
    "df.createOrReplaceTempView(\"df\")\n",
    "\n",
    "df.printSchema()"
   ]
  },
  {
   "cell_type": "markdown",
   "id": "41036eda",
   "metadata": {},
   "source": [
    "## Adding Price Features\n"
   ]
  },
  {
   "cell_type": "code",
   "execution_count": 6,
   "id": "d1a1cd37",
   "metadata": {
    "pycharm": {
     "name": "#%%\n"
    }
   },
   "outputs": [],
   "source": [
    "# Adding Open Price Features\n",
    "\n",
    "df = df.withColumn(\"rnk\",F.dense_rank().over(Window.partitionBy(\"t_trade_date\").orderBy(\"t_trade_epoch\")))\\\n",
    ".withColumn(\"p_min_open_price_for_last_3min\",F.min(\"open\").over(Window.partitionBy(\"t_trade_date\").orderBy(\"rnk\").rangeBetween(-3,-1)))\\\n",
    ".withColumn(\"p_avg_open_price_for_last_3min\",F.avg(\"open\").over(Window.partitionBy(\"t_trade_date\").orderBy(\"rnk\").rangeBetween(-3,-1)))\\\n",
    ".withColumn(\"p_max_open_price_for_last_3min\",F.max(\"open\").over(Window.partitionBy(\"t_trade_date\").orderBy(\"rnk\").rangeBetween(-3,-1)))\\\n",
    ".withColumn(\"p_stddev_open_price_for_last_3min\",F.stddev(\"open\").over(Window.partitionBy(\"t_trade_date\").orderBy(\"rnk\").rangeBetween(-3,-1)))\\\n",
    ".withColumn(\"p_min_open_price_for_last_5min\",F.min(\"open\").over(Window.partitionBy(\"t_trade_date\").orderBy(\"rnk\").rangeBetween(-5,-1)))\\\n",
    ".withColumn(\"p_avg_open_price_for_last_5min\",F.avg(\"open\").over(Window.partitionBy(\"t_trade_date\").orderBy(\"rnk\").rangeBetween(-5,-1)))\\\n",
    ".withColumn(\"p_max_open_price_for_last_5min\",F.max(\"open\").over(Window.partitionBy(\"t_trade_date\").orderBy(\"rnk\").rangeBetween(-5,-1)))\\\n",
    ".withColumn(\"p_stddev_open_price_for_last_5min\",F.stddev(\"open\").over(Window.partitionBy(\"t_trade_date\").orderBy(\"rnk\").rangeBetween(-5,-1)))\\\n",
    ".withColumn(\"p_min_open_price_for_last_10min\",F.min(\"open\").over(Window.partitionBy(\"t_trade_date\").orderBy(\"rnk\").rangeBetween(-10,-1)))\\\n",
    ".withColumn(\"p_avg_open_price_for_last_10min\",F.avg(\"open\").over(Window.partitionBy(\"t_trade_date\").orderBy(\"rnk\").rangeBetween(-10,-1)))\\\n",
    ".withColumn(\"p_max_open_price_for_last_10min\",F.max(\"open\").over(Window.partitionBy(\"t_trade_date\").orderBy(\"rnk\").rangeBetween(-10,-1)))\\\n",
    ".withColumn(\"p_stddev_open_price_for_last_10min\",F.stddev(\"open\").over(Window.partitionBy(\"t_trade_date\").orderBy(\"rnk\").rangeBetween(-10,-1)))\n"
   ]
  },
  {
   "cell_type": "code",
   "execution_count": 7,
   "id": "bde479d9",
   "metadata": {
    "pycharm": {
     "name": "#%%\n"
    }
   },
   "outputs": [],
   "source": [
    "# Adding high Price Features\n",
    "\n",
    "df = df.withColumn(\"rnk\",F.dense_rank().over(Window.partitionBy(\"t_trade_date\").orderBy(\"t_trade_epoch\")))\\\n",
    ".withColumn(\"p_min_high_price_for_last_3min\",F.min(\"high\").over(Window.partitionBy(\"t_trade_date\").orderBy(\"rnk\").rangeBetween(-3,-1)))\\\n",
    ".withColumn(\"p_avg_high_price_for_last_3min\",F.avg(\"high\").over(Window.partitionBy(\"t_trade_date\").orderBy(\"rnk\").rangeBetween(-3,-1)))\\\n",
    ".withColumn(\"p_max_high_price_for_last_3min\",F.max(\"high\").over(Window.partitionBy(\"t_trade_date\").orderBy(\"rnk\").rangeBetween(-3,-1)))\\\n",
    ".withColumn(\"p_stddev_high_price_for_last_3min\",F.stddev(\"high\").over(Window.partitionBy(\"t_trade_date\").orderBy(\"rnk\").rangeBetween(-3,-1)))\\\n",
    ".withColumn(\"p_min_high_price_for_last_5min\",F.min(\"high\").over(Window.partitionBy(\"t_trade_date\").orderBy(\"rnk\").rangeBetween(-5,-1)))\\\n",
    ".withColumn(\"p_avg_high_price_for_last_5min\",F.avg(\"high\").over(Window.partitionBy(\"t_trade_date\").orderBy(\"rnk\").rangeBetween(-5,-1)))\\\n",
    ".withColumn(\"p_max_high_price_for_last_5min\",F.max(\"high\").over(Window.partitionBy(\"t_trade_date\").orderBy(\"rnk\").rangeBetween(-5,-1)))\\\n",
    ".withColumn(\"p_stddev_high_price_for_last_5min\",F.stddev(\"high\").over(Window.partitionBy(\"t_trade_date\").orderBy(\"rnk\").rangeBetween(-5,-1)))\\\n",
    ".withColumn(\"p_min_high_price_for_last_10min\",F.min(\"high\").over(Window.partitionBy(\"t_trade_date\").orderBy(\"rnk\").rangeBetween(-10,-1)))\\\n",
    ".withColumn(\"p_avg_high_price_for_last_10min\",F.avg(\"high\").over(Window.partitionBy(\"t_trade_date\").orderBy(\"rnk\").rangeBetween(-10,-1)))\\\n",
    ".withColumn(\"p_max_high_price_for_last_10min\",F.max(\"high\").over(Window.partitionBy(\"t_trade_date\").orderBy(\"rnk\").rangeBetween(-10,-1)))\\\n",
    ".withColumn(\"p_stddev_high_price_for_last_10min\",F.stddev(\"high\").over(Window.partitionBy(\"t_trade_date\").orderBy(\"rnk\").rangeBetween(-10,-1)))\n",
    "\n",
    "# df.createOrReplaceTempView(\"df\")\n",
    "\n",
    "# df.printSchema()"
   ]
  },
  {
   "cell_type": "code",
   "execution_count": 8,
   "id": "b2c382a9",
   "metadata": {
    "pycharm": {
     "name": "#%%\n"
    }
   },
   "outputs": [],
   "source": [
    "# Adding low Price Features\n",
    "\n",
    "df = df.withColumn(\"rnk\",F.dense_rank().over(Window.partitionBy(\"t_trade_date\").orderBy(\"t_trade_epoch\")))\\\n",
    ".withColumn(\"p_min_low_price_for_last_3min\",F.min(\"low\").over(Window.partitionBy(\"t_trade_date\").orderBy(\"rnk\").rangeBetween(-3,-1)))\\\n",
    ".withColumn(\"p_avg_low_price_for_last_3min\",F.avg(\"low\").over(Window.partitionBy(\"t_trade_date\").orderBy(\"rnk\").rangeBetween(-3,-1)))\\\n",
    ".withColumn(\"p_max_low_price_for_last_3min\",F.max(\"low\").over(Window.partitionBy(\"t_trade_date\").orderBy(\"rnk\").rangeBetween(-3,-1)))\\\n",
    ".withColumn(\"p_stddev_low_price_for_last_3min\",F.stddev(\"low\").over(Window.partitionBy(\"t_trade_date\").orderBy(\"rnk\").rangeBetween(-3,-1)))\\\n",
    ".withColumn(\"p_min_low_price_for_last_5min\",F.min(\"low\").over(Window.partitionBy(\"t_trade_date\").orderBy(\"rnk\").rangeBetween(-5,-1)))\\\n",
    ".withColumn(\"p_avg_low_price_for_last_5min\",F.avg(\"low\").over(Window.partitionBy(\"t_trade_date\").orderBy(\"rnk\").rangeBetween(-5,-1)))\\\n",
    ".withColumn(\"p_max_low_price_for_last_5min\",F.max(\"low\").over(Window.partitionBy(\"t_trade_date\").orderBy(\"rnk\").rangeBetween(-5,-1)))\\\n",
    ".withColumn(\"p_stddev_low_price_for_last_5min\",F.stddev(\"low\").over(Window.partitionBy(\"t_trade_date\").orderBy(\"rnk\").rangeBetween(-5,-1)))\\\n",
    ".withColumn(\"p_min_low_price_for_last_10min\",F.min(\"low\").over(Window.partitionBy(\"t_trade_date\").orderBy(\"rnk\").rangeBetween(-10,-1)))\\\n",
    ".withColumn(\"p_avg_low_price_for_last_10min\",F.avg(\"low\").over(Window.partitionBy(\"t_trade_date\").orderBy(\"rnk\").rangeBetween(-10,-1)))\\\n",
    ".withColumn(\"p_max_low_price_for_last_10min\",F.max(\"low\").over(Window.partitionBy(\"t_trade_date\").orderBy(\"rnk\").rangeBetween(-10,-1)))\\\n",
    ".withColumn(\"p_stddev_low_price_for_last_10min\",F.stddev(\"low\").over(Window.partitionBy(\"t_trade_date\").orderBy(\"rnk\").rangeBetween(-10,-1)))\n",
    "\n",
    "\n",
    "# df.createOrReplaceTempView(\"df\")\n",
    "\n",
    "# df.printSchema()"
   ]
  },
  {
   "cell_type": "code",
   "execution_count": 9,
   "id": "e41d7c32",
   "metadata": {
    "pycharm": {
     "name": "#%%\n"
    }
   },
   "outputs": [],
   "source": [
    "# # Adding close Price Features\n",
    "\n",
    "df = df.withColumn(\"rnk\",F.dense_rank().over(Window.partitionBy(\"t_trade_date\").orderBy(\"t_trade_epoch\")))\\\n",
    ".withColumn(\"p_min_close_price_for_last_3min\",F.min(\"close\").over(Window.partitionBy(\"t_trade_date\").orderBy(\"rnk\").rangeBetween(-3,-1)))\\\n",
    ".withColumn(\"p_avg_close_price_for_last_3min\",F.avg(\"close\").over(Window.partitionBy(\"t_trade_date\").orderBy(\"rnk\").rangeBetween(-3,-1)))\\\n",
    ".withColumn(\"p_max_close_price_for_last_3min\",F.max(\"close\").over(Window.partitionBy(\"t_trade_date\").orderBy(\"rnk\").rangeBetween(-3,-1)))\\\n",
    ".withColumn(\"p_stddev_close_price_for_last_3min\",F.stddev(\"close\").over(Window.partitionBy(\"t_trade_date\").orderBy(\"rnk\").rangeBetween(-3,-1)))\\\n",
    ".withColumn(\"p_min_close_price_for_last_5min\",F.min(\"close\").over(Window.partitionBy(\"t_trade_date\").orderBy(\"rnk\").rangeBetween(-5,-1)))\\\n",
    ".withColumn(\"p_avg_close_price_for_last_5min\",F.avg(\"close\").over(Window.partitionBy(\"t_trade_date\").orderBy(\"rnk\").rangeBetween(-5,-1)))\\\n",
    ".withColumn(\"p_max_close_price_for_last_5min\",F.max(\"close\").over(Window.partitionBy(\"t_trade_date\").orderBy(\"rnk\").rangeBetween(-5,-1)))\\\n",
    ".withColumn(\"p_stddev_close_price_for_last_5min\",F.stddev(\"close\").over(Window.partitionBy(\"t_trade_date\").orderBy(\"rnk\").rangeBetween(-5,-1)))\\\n",
    ".withColumn(\"p_min_close_price_for_last_10min\",F.min(\"close\").over(Window.partitionBy(\"t_trade_date\").orderBy(\"rnk\").rangeBetween(-10,-1)))\\\n",
    ".withColumn(\"p_avg_close_price_for_last_10min\",F.avg(\"close\").over(Window.partitionBy(\"t_trade_date\").orderBy(\"rnk\").rangeBetween(-10,-1)))\\\n",
    ".withColumn(\"p_max_close_price_for_last_10min\",F.max(\"close\").over(Window.partitionBy(\"t_trade_date\").orderBy(\"rnk\").rangeBetween(-10,-1)))\\\n",
    ".withColumn(\"p_stddev_close_price_for_last_10min\",F.stddev(\"close\").over(Window.partitionBy(\"t_trade_date\").orderBy(\"rnk\").rangeBetween(-10,-1)))\n"
   ]
  },
  {
   "cell_type": "code",
   "execution_count": 10,
   "id": "0bb642f0",
   "metadata": {
    "pycharm": {
     "name": "#%%\n"
    }
   },
   "outputs": [],
   "source": [
    "# # Adding volume Price Features\n",
    "\n",
    "df = df.withColumn(\"rnk\",F.dense_rank().over(Window.partitionBy(\"t_trade_date\").orderBy(\"t_trade_epoch\")))\\\n",
    ".withColumn(\"p_min_volume_price_for_last_3min\",F.min(\"volume\").over(Window.partitionBy(\"t_trade_date\").orderBy(\"rnk\").rangeBetween(-3,-1)))\\\n",
    ".withColumn(\"p_avg_volume_price_for_last_3min\",F.avg(\"volume\").over(Window.partitionBy(\"t_trade_date\").orderBy(\"rnk\").rangeBetween(-3,-1)))\\\n",
    ".withColumn(\"p_max_volume_price_for_last_3min\",F.max(\"volume\").over(Window.partitionBy(\"t_trade_date\").orderBy(\"rnk\").rangeBetween(-3,-1)))\\\n",
    ".withColumn(\"p_stddev_volume_price_for_last_3min\",F.stddev(\"volume\").over(Window.partitionBy(\"t_trade_date\").orderBy(\"rnk\").rangeBetween(-3,-1)))\\\n",
    ".withColumn(\"p_min_volume_price_for_last_5min\",F.min(\"volume\").over(Window.partitionBy(\"t_trade_date\").orderBy(\"rnk\").rangeBetween(-5,-1)))\\\n",
    ".withColumn(\"p_avg_volume_price_for_last_5min\",F.avg(\"volume\").over(Window.partitionBy(\"t_trade_date\").orderBy(\"rnk\").rangeBetween(-5,-1)))\\\n",
    ".withColumn(\"p_max_volume_price_for_last_5min\",F.max(\"volume\").over(Window.partitionBy(\"t_trade_date\").orderBy(\"rnk\").rangeBetween(-5,-1)))\\\n",
    ".withColumn(\"p_stddev_volume_price_for_last_5min\",F.stddev(\"volume\").over(Window.partitionBy(\"t_trade_date\").orderBy(\"rnk\").rangeBetween(-5,-1)))\\\n",
    ".withColumn(\"p_min_volume_price_for_last_10min\",F.min(\"volume\").over(Window.partitionBy(\"t_trade_date\").orderBy(\"rnk\").rangeBetween(-10,-1)))\\\n",
    ".withColumn(\"p_avg_volume_price_for_last_10min\",F.avg(\"volume\").over(Window.partitionBy(\"t_trade_date\").orderBy(\"rnk\").rangeBetween(-10,-1)))\\\n",
    ".withColumn(\"p_max_volume_price_for_last_10min\",F.max(\"volume\").over(Window.partitionBy(\"t_trade_date\").orderBy(\"rnk\").rangeBetween(-10,-1)))\\\n",
    ".withColumn(\"p_stddev_volume_price_for_last_10min\",F.stddev(\"volume\").over(Window.partitionBy(\"t_trade_date\").orderBy(\"rnk\").rangeBetween(-10,-1)))\n"
   ]
  },
  {
   "cell_type": "code",
   "execution_count": 11,
   "id": "47870d1e",
   "metadata": {},
   "outputs": [
    {
     "name": "stderr",
     "output_type": "stream",
     "text": [
      "23/07/08 20:23:13 WARN Utils: Truncated the string representation of a plan since it was too large. This behavior can be adjusted by setting 'spark.debug.maxToStringFields' in SparkEnv.conf.\n"
     ]
    },
    {
     "name": "stdout",
     "output_type": "stream",
     "text": [
      "root\n",
      " |-- time: timestamp (nullable = true)\n",
      " |-- open: double (nullable = true)\n",
      " |-- high: double (nullable = true)\n",
      " |-- low: double (nullable = true)\n",
      " |-- close: double (nullable = true)\n",
      " |-- volume: integer (nullable = true)\n",
      " |-- t_trade_epoch: long (nullable = true)\n",
      " |-- t_trade_date: date (nullable = true)\n",
      " |-- t_trade_hour: integer (nullable = true)\n",
      " |-- t_trade_minute: integer (nullable = true)\n",
      " |-- t_trade_day_of_week: string (nullable = true)\n",
      " |-- t_trade_open_e: long (nullable = true)\n",
      " |-- t_trade_open_h: integer (nullable = true)\n",
      " |-- t_trade_close_e: long (nullable = true)\n",
      " |-- t_trade_close_h: integer (nullable = true)\n",
      " |-- t_time_diff_between_trade_and_open_in_sec: long (nullable = true)\n",
      " |-- t_trade_part: string (nullable = false)\n",
      " |-- t_trade_part_open_e: long (nullable = true)\n",
      " |-- t_trade_part_open_h: integer (nullable = true)\n",
      " |-- t_time_diff_between_trade_and_trade_part_open_in_sec: long (nullable = true)\n",
      " |-- t_precent_of_time_from_start_of_trade_pase: double (nullable = true)\n",
      " |-- t_precent_of_time_from_start_of_trade_day: double (nullable = true)\n",
      " |-- rnk: integer (nullable = true)\n",
      " |-- p_min_open_price_for_last_3min: double (nullable = true)\n",
      " |-- p_avg_open_price_for_last_3min: double (nullable = true)\n",
      " |-- p_max_open_price_for_last_3min: double (nullable = true)\n",
      " |-- p_stddev_open_price_for_last_3min: double (nullable = true)\n",
      " |-- p_min_open_price_for_last_5min: double (nullable = true)\n",
      " |-- p_avg_open_price_for_last_5min: double (nullable = true)\n",
      " |-- p_max_open_price_for_last_5min: double (nullable = true)\n",
      " |-- p_stddev_open_price_for_last_5min: double (nullable = true)\n",
      " |-- p_min_open_price_for_last_10min: double (nullable = true)\n",
      " |-- p_avg_open_price_for_last_10min: double (nullable = true)\n",
      " |-- p_max_open_price_for_last_10min: double (nullable = true)\n",
      " |-- p_stddev_open_price_for_last_10min: double (nullable = true)\n",
      " |-- p_min_high_price_for_last_3min: double (nullable = true)\n",
      " |-- p_avg_high_price_for_last_3min: double (nullable = true)\n",
      " |-- p_max_high_price_for_last_3min: double (nullable = true)\n",
      " |-- p_stddev_high_price_for_last_3min: double (nullable = true)\n",
      " |-- p_min_high_price_for_last_5min: double (nullable = true)\n",
      " |-- p_avg_high_price_for_last_5min: double (nullable = true)\n",
      " |-- p_max_high_price_for_last_5min: double (nullable = true)\n",
      " |-- p_stddev_high_price_for_last_5min: double (nullable = true)\n",
      " |-- p_min_high_price_for_last_10min: double (nullable = true)\n",
      " |-- p_avg_high_price_for_last_10min: double (nullable = true)\n",
      " |-- p_max_high_price_for_last_10min: double (nullable = true)\n",
      " |-- p_stddev_high_price_for_last_10min: double (nullable = true)\n",
      " |-- p_min_low_price_for_last_3min: double (nullable = true)\n",
      " |-- p_avg_low_price_for_last_3min: double (nullable = true)\n",
      " |-- p_max_low_price_for_last_3min: double (nullable = true)\n",
      " |-- p_stddev_low_price_for_last_3min: double (nullable = true)\n",
      " |-- p_min_low_price_for_last_5min: double (nullable = true)\n",
      " |-- p_avg_low_price_for_last_5min: double (nullable = true)\n",
      " |-- p_max_low_price_for_last_5min: double (nullable = true)\n",
      " |-- p_stddev_low_price_for_last_5min: double (nullable = true)\n",
      " |-- p_min_low_price_for_last_10min: double (nullable = true)\n",
      " |-- p_avg_low_price_for_last_10min: double (nullable = true)\n",
      " |-- p_max_low_price_for_last_10min: double (nullable = true)\n",
      " |-- p_stddev_low_price_for_last_10min: double (nullable = true)\n",
      " |-- p_min_close_price_for_last_3min: double (nullable = true)\n",
      " |-- p_avg_close_price_for_last_3min: double (nullable = true)\n",
      " |-- p_max_close_price_for_last_3min: double (nullable = true)\n",
      " |-- p_stddev_close_price_for_last_3min: double (nullable = true)\n",
      " |-- p_min_close_price_for_last_5min: double (nullable = true)\n",
      " |-- p_avg_close_price_for_last_5min: double (nullable = true)\n",
      " |-- p_max_close_price_for_last_5min: double (nullable = true)\n",
      " |-- p_stddev_close_price_for_last_5min: double (nullable = true)\n",
      " |-- p_min_close_price_for_last_10min: double (nullable = true)\n",
      " |-- p_avg_close_price_for_last_10min: double (nullable = true)\n",
      " |-- p_max_close_price_for_last_10min: double (nullable = true)\n",
      " |-- p_stddev_close_price_for_last_10min: double (nullable = true)\n",
      " |-- p_min_volume_price_for_last_3min: integer (nullable = true)\n",
      " |-- p_avg_volume_price_for_last_3min: double (nullable = true)\n",
      " |-- p_max_volume_price_for_last_3min: integer (nullable = true)\n",
      " |-- p_stddev_volume_price_for_last_3min: double (nullable = true)\n",
      " |-- p_min_volume_price_for_last_5min: integer (nullable = true)\n",
      " |-- p_avg_volume_price_for_last_5min: double (nullable = true)\n",
      " |-- p_max_volume_price_for_last_5min: integer (nullable = true)\n",
      " |-- p_stddev_volume_price_for_last_5min: double (nullable = true)\n",
      " |-- p_min_volume_price_for_last_10min: integer (nullable = true)\n",
      " |-- p_avg_volume_price_for_last_10min: double (nullable = true)\n",
      " |-- p_max_volume_price_for_last_10min: integer (nullable = true)\n",
      " |-- p_stddev_volume_price_for_last_10min: double (nullable = true)\n",
      "\n"
     ]
    }
   ],
   "source": [
    "\n",
    "df.createOrReplaceTempView(\"df\")\n",
    "\n",
    "df.printSchema()"
   ]
  },
  {
   "cell_type": "markdown",
   "id": "54f95114",
   "metadata": {},
   "source": [
    "# Adding media data points"
   ]
  },
  {
   "cell_type": "code",
   "execution_count": 12,
   "id": "30333916",
   "metadata": {},
   "outputs": [
    {
     "name": "stderr",
     "output_type": "stream",
     "text": [
      "                                                                                \r"
     ]
    },
    {
     "name": "stdout",
     "output_type": "stream",
     "text": [
      "root\n",
      " |-- epoch: integer (nullable = true)\n",
      " |-- ts_: string (nullable = true)\n",
      " |-- date_: date (nullable = true)\n",
      " |-- year_: integer (nullable = true)\n",
      " |-- month_: integer (nullable = true)\n",
      " |-- day_of_week: string (nullable = true)\n",
      " |-- day_of_month: integer (nullable = true)\n",
      " |-- time_: string (nullable = true)\n",
      " |-- hour_: integer (nullable = true)\n",
      " |-- minute_: integer (nullable = true)\n",
      " |-- snp_media_events_count: long (nullable = true)\n",
      " |-- m_avg_snp_media_events_count_last_15min: double (nullable = true)\n",
      " |-- m_max_snp_media_events_count_last_15min: long (nullable = true)\n",
      " |-- m_stddev_snp_media_events_count_last_15min: double (nullable = true)\n",
      " |-- m_sum_snp_media_events_count_last_15min: long (nullable = true)\n",
      " |-- m_avg_snp_media_events_count_last_30min: double (nullable = true)\n",
      " |-- m_max_snp_media_events_count_last_30min: long (nullable = true)\n",
      " |-- m_stddev_snp_media_events_count_last_30min: double (nullable = true)\n",
      " |-- m_sum_snp_media_events_count_last_min: long (nullable = true)\n",
      " |-- m_avg_snp_media_events_count_last_45min: double (nullable = true)\n",
      " |-- m_max_snp_media_events_count_last_45min: long (nullable = true)\n",
      " |-- m_stddev_snp_media_events_count_last_45min: double (nullable = true)\n",
      " |-- m_sum_snp_media_events_count_last_45min: long (nullable = true)\n",
      " |-- m_avg_snp_media_events_count_last_1hour: double (nullable = true)\n",
      " |-- m_max_snp_media_events_count_last_1hour: long (nullable = true)\n",
      " |-- m_stddev_snp_media_events_count_last_1hour: double (nullable = true)\n",
      " |-- m_sum_snp_media_events_count_last_1hour: long (nullable = true)\n",
      " |-- m_avg_snp_media_events_count_last_3hour: double (nullable = true)\n",
      " |-- m_max_snp_media_events_count_last_3hour: long (nullable = true)\n",
      " |-- m_stddev_snp_media_events_count_last_3hour: double (nullable = true)\n",
      " |-- m_sum_snp_media_events_count_last_3hour: long (nullable = true)\n",
      " |-- m_avg_snp_media_events_count_last_3days: double (nullable = true)\n",
      " |-- m_max_snp_media_events_count_last_3days: long (nullable = true)\n",
      " |-- m_stddev_snp_media_events_count_last_3days: double (nullable = true)\n",
      " |-- m_sum_snp_media_events_count_last_3days: long (nullable = true)\n",
      " |-- m_avg_snp_media_events_count_last_7days: double (nullable = true)\n",
      " |-- m_max_snp_media_events_count_last_7days: long (nullable = true)\n",
      " |-- m_stddev_snp_media_events_count_last_7days: double (nullable = true)\n",
      " |-- m_sum_snp_media_events_count_last_7days: long (nullable = true)\n",
      " |-- m_avg_snp_media_events_count_last_14days: double (nullable = true)\n",
      " |-- m_max_snp_media_events_count_last_14days: long (nullable = true)\n",
      " |-- m_stddev_snp_media_events_count_last_14days: double (nullable = true)\n",
      " |-- m_sum_snp_media_events_count_last_14days: long (nullable = true)\n",
      " |-- m_avg_snp_media_events_count_last_30days: double (nullable = true)\n",
      " |-- m_max_snp_media_events_count_last_30days: long (nullable = true)\n",
      " |-- m_stddev_snp_media_events_count_last_30days: double (nullable = true)\n",
      " |-- m_sum_snp_media_events_count_last_30days: long (nullable = true)\n",
      " |-- m_avg_snp_media_events_count_last_60days: double (nullable = true)\n",
      " |-- m_max_snp_media_events_count_last_60days: long (nullable = true)\n",
      " |-- m_stddev_snp_media_events_count_last_60days: double (nullable = true)\n",
      " |-- m_sum_snp_media_events_count_last_60days: long (nullable = true)\n",
      "\n"
     ]
    },
    {
     "name": "stderr",
     "output_type": "stream",
     "text": [
      "                                                                                \r"
     ]
    },
    {
     "name": "stdout",
     "output_type": "stream",
     "text": [
      "+-------+--------------------+-------------------+------------------+------------------+-----------+------------------+--------+-----------------+------------------+----------------------+---------------------------------------+---------------------------------------+------------------------------------------+---------------------------------------+---------------------------------------+---------------------------------------+------------------------------------------+-------------------------------------+---------------------------------------+---------------------------------------+------------------------------------------+---------------------------------------+---------------------------------------+---------------------------------------+------------------------------------------+---------------------------------------+---------------------------------------+---------------------------------------+------------------------------------------+---------------------------------------+---------------------------------------+---------------------------------------+------------------------------------------+---------------------------------------+---------------------------------------+---------------------------------------+------------------------------------------+---------------------------------------+----------------------------------------+----------------------------------------+-------------------------------------------+----------------------------------------+----------------------------------------+----------------------------------------+-------------------------------------------+----------------------------------------+----------------------------------------+----------------------------------------+-------------------------------------------+----------------------------------------+\n",
      "|summary|               epoch|                ts_|             year_|            month_|day_of_week|      day_of_month|   time_|            hour_|           minute_|snp_media_events_count|m_avg_snp_media_events_count_last_15min|m_max_snp_media_events_count_last_15min|m_stddev_snp_media_events_count_last_15min|m_sum_snp_media_events_count_last_15min|m_avg_snp_media_events_count_last_30min|m_max_snp_media_events_count_last_30min|m_stddev_snp_media_events_count_last_30min|m_sum_snp_media_events_count_last_min|m_avg_snp_media_events_count_last_45min|m_max_snp_media_events_count_last_45min|m_stddev_snp_media_events_count_last_45min|m_sum_snp_media_events_count_last_45min|m_avg_snp_media_events_count_last_1hour|m_max_snp_media_events_count_last_1hour|m_stddev_snp_media_events_count_last_1hour|m_sum_snp_media_events_count_last_1hour|m_avg_snp_media_events_count_last_3hour|m_max_snp_media_events_count_last_3hour|m_stddev_snp_media_events_count_last_3hour|m_sum_snp_media_events_count_last_3hour|m_avg_snp_media_events_count_last_3days|m_max_snp_media_events_count_last_3days|m_stddev_snp_media_events_count_last_3days|m_sum_snp_media_events_count_last_3days|m_avg_snp_media_events_count_last_7days|m_max_snp_media_events_count_last_7days|m_stddev_snp_media_events_count_last_7days|m_sum_snp_media_events_count_last_7days|m_avg_snp_media_events_count_last_14days|m_max_snp_media_events_count_last_14days|m_stddev_snp_media_events_count_last_14days|m_sum_snp_media_events_count_last_14days|m_avg_snp_media_events_count_last_30days|m_max_snp_media_events_count_last_30days|m_stddev_snp_media_events_count_last_30days|m_sum_snp_media_events_count_last_30days|m_avg_snp_media_events_count_last_60days|m_max_snp_media_events_count_last_60days|m_stddev_snp_media_events_count_last_60days|m_sum_snp_media_events_count_last_60days|\n",
      "+-------+--------------------+-------------------+------------------+------------------+-----------+------------------+--------+-----------------+------------------+----------------------+---------------------------------------+---------------------------------------+------------------------------------------+---------------------------------------+---------------------------------------+---------------------------------------+------------------------------------------+-------------------------------------+---------------------------------------+---------------------------------------+------------------------------------------+---------------------------------------+---------------------------------------+---------------------------------------+------------------------------------------+---------------------------------------+---------------------------------------+---------------------------------------+------------------------------------------+---------------------------------------+---------------------------------------+---------------------------------------+------------------------------------------+---------------------------------------+---------------------------------------+---------------------------------------+------------------------------------------+---------------------------------------+----------------------------------------+----------------------------------------+-------------------------------------------+----------------------------------------+----------------------------------------+----------------------------------------+-------------------------------------------+----------------------------------------+----------------------------------------+----------------------------------------+-------------------------------------------+----------------------------------------+\n",
      "|  count|              700321|             700321|            700321|            700321|     700321|            700321|  700321|           700321|            700321|                700321|                                 700320|                                 700320|                                    700319|                                 700320|                                 700320|                                 700320|                                    700319|                               700320|                                 700320|                                 700320|                                    700319|                                 700320|                                 700320|                                 700320|                                    700319|                                 700320|                                 700320|                                 700320|                                    700319|                                 700320|                                 698881|                                 698881|                                    697441|                                 698881|                                 698881|                                 698881|                                    697441|                                 698881|                                  698881|                                  698881|                                     697441|                                  698881|                                  698881|                                  698881|                                     697441|                                  698881|                                  698881|                                  698881|                                     697441|                                  698881|\n",
      "|   mean|         1.6620048E9|               null|2022.2494870209518|5.5284433852476225|       null|15.632605619423094|    null|11.49451180244488|29.499957876459508|   0.22280782669661484|                    0.22280814484810418|                     1.7151730637422893|                       0.49516452164361513|                     3.3421221727210417|                    0.22280814484807693|                     2.4762508567511996|                        0.5528690961257317|                   6.6842443454420835|                    0.22280814484805184|                      2.991819453963902|                        0.5793466206761484|                     10.026366518163126|                    0.22280814484805403|                     3.4046250285583732|                        0.5965968019410586|                     13.368488690884167|                    0.22280814484804723|                      5.300903872515422|                        0.6488758358748336|                     40.105466072652504|                      321.5043476643403|                      440.7397539781451|                        126.79017070210219|                      964.5130429930131|                     321.50434766432255|                      518.7355214979374|                        171.15962227868522|                      2250.530433650364|                      321.50434766433347|                       565.2127901602705|                          170.3195555342032|                       4501.060867300728|                      321.50434766434444|                       621.7903190958117|                          176.2660197340364|                       9645.130429930132|                      321.50434766432033|                       698.2036712974026|                          190.5948936037844|                      19290.260859860264|\n",
      "| stddev|1.2129924196323134E7|               null|0.4327164368222955|3.4992969185113143|       null|  8.79277361672836|    null|6.923241720859693| 17.31813815948792|    0.9580449013747925|                    0.35354100807434946|                     2.8439734376991916|                        0.7773711127686435|                      5.303115121115228|                     0.3103191184130078|                      3.595137574305171|                        0.7377121945048847|                     9.30957355239021|                     0.2951417966841868|                      4.099196758349734|                        0.7169249145727197|                     13.281380850788416|                    0.28643137056315304|                      4.495097001713888|                        0.7028851593321368|                      17.18588223378917|                     0.2638997001586761|                     6.3224830326041515|                         0.657196759576413|                      47.50194602856164|                      231.5232555089446|                      286.6921144959943|                        109.98057939066211|                      694.5697665268366|                     194.84127984133465|                     312.57201073942986|                        104.40173838126442|                     1363.8889588893414|                       190.8182368848513|                       325.1508928293181|                          98.83804423509426|                      2671.4553163879314|                       184.7028605786297|                        324.471537799199|                          92.52219130768279|                       5541.085817358936|                      173.60041118176125|                       295.6199745878395|                          81.76655111061162|                      10416.024670905708|\n",
      "|    min|          1640995200|2022-01-01 00:00:00|              2022|                 1|        Fri|                 1|00:00:00|                0|                 0|                     0|                                    0.0|                                      0|                                       0.0|                                      0|                                    0.0|                                      0|                                       0.0|                                    0|                                    0.0|                                      0|                                       0.0|                                      0|                                    0.0|                                      0|                                       0.0|                                      0|                                    0.0|                                      0|                                       0.0|                                      0|                                    0.0|                                      0|                                       0.0|                                      0|                                    0.0|                                      0|                                       0.0|                                      0|                                     0.0|                                       0|                                        0.0|                                       0|                                     0.0|                                       0|                                        0.0|                                       0|                                     0.0|                                       0|                                        0.0|                                       0|\n",
      "|    25%|          1651496940|               null|              2022|                 3|       null|                 8|    null|                5|                15|                     0|                                    0.0|                                      0|                                       0.0|                                      0|                                    0.0|                                      0|                                       0.0|                                    0|                                    0.0|                                      0|                                       0.0|                                      0|                                    0.0|                                      0|                                       0.0|                                      0|                                    0.0|                                      0|                                       0.0|                                      0|                     11.666666666666666|                                     35|                        5.8594652770823155|                                     35|                      47.57142857142857|                                    154|                        52.287210491212676|                                    333|                      145.85714285714286|                                     590|                         166.84203228282655|                                    2042|                                   177.2|                                     651|                          186.6029530017291|                                    5316|                      191.91666666666666|                                     718|                          193.5519280969748|                                   11515|\n",
      "|    50%|          1662003960|               null|              2022|                 5|       null|                16|    null|               11|                30|                     0|                    0.06666666666666667|                                      1|                        0.2581988897471611|                                      1|                    0.06666666666666667|                                      1|                        0.3651483716701107|                                    2|                    0.08888888888888889|                                      2|                       0.38270699819136633|                                      4|                                    0.1|                                      2|                        0.4184987968176887|                                      6|                     0.1111111111111111|                                      4|                        0.5196032961314948|                                     20|                                  331.0|                                    533|                        111.09605453540344|                                    993|                                  410.0|                                    642|                         210.0043083458278|                                   2870|                      411.57142857142856|                                     715|                          204.9874962683666|                                    5762|                                   413.8|                                     726|                         206.38509925719515|                                   12414|                      407.18333333333334|                                     784|                         225.05096158589163|                                   24431|\n",
      "|    75%|          1672506600|               null|              2022|                 9|       null|                23|    null|               17|                45|                     0|                     0.3333333333333333|                                      3|                        0.7745966692414834|                                      5|                     0.3333333333333333|                                      4|                        0.8840866447369844|                                   10|                    0.35555555555555557|                                      4|                        0.9183868157994992|                                     16|                                   0.35|                                      5|                        0.9442062400391208|                                     21|                    0.36666666666666664|                                      8|                        1.0275382645743636|                                     66|                                  519.0|                                    651|                         217.7245966812202|                                   1557|                                  453.0|                                    718|                           239.99702379107|                                   3171|                      446.85714285714283|                                     789|                          237.1458493125145|                                    6256|                      452.93333333333334|                                     839|                         237.97465575478662|                                   13588|                                  452.55|                                     881|                           238.810647043307|                                   27153|\n",
      "|    max|          1683014400|2023-05-02 08:00:00|              2023|                12|        Wed|                31|23:59:00|               23|                59|                    86|                      7.733333333333333|                                     86|                        22.188156428921392|                                    116|                      5.033333333333333|                                     86|                        15.690834867863938|                                  151|                      4.022222222222222|                                     86|                        12.866957132849471|                                    181|                     3.0166666666666666|                                     86|                        11.148712271412089|                                    181|                     1.4833333333333334|                                     86|                         6.460621778733535|                                    267|                      841.6666666666666|                                    933|                         459.2355967619815|                                   2525|                      566.2857142857143|                                    933|                        325.98999400361384|                                   3964|                       537.4285714285714|                                     933|                          294.2611160102612|                                    7524|                                   523.3|                                     933|                         277.26834381652486|                                   15699|                                  486.05|                                     933|                         259.14898698939015|                                   29163|\n",
      "+-------+--------------------+-------------------+------------------+------------------+-----------+------------------+--------+-----------------+------------------+----------------------+---------------------------------------+---------------------------------------+------------------------------------------+---------------------------------------+---------------------------------------+---------------------------------------+------------------------------------------+-------------------------------------+---------------------------------------+---------------------------------------+------------------------------------------+---------------------------------------+---------------------------------------+---------------------------------------+------------------------------------------+---------------------------------------+---------------------------------------+---------------------------------------+------------------------------------------+---------------------------------------+---------------------------------------+---------------------------------------+------------------------------------------+---------------------------------------+---------------------------------------+---------------------------------------+------------------------------------------+---------------------------------------+----------------------------------------+----------------------------------------+-------------------------------------------+----------------------------------------+----------------------------------------+----------------------------------------+-------------------------------------------+----------------------------------------+----------------------------------------+----------------------------------------+-------------------------------------------+----------------------------------------+\n",
      "\n"
     ]
    }
   ],
   "source": [
    "\n",
    "media_df = spark.read.parquet(\"./data/DWH/dim_media/*.snappy.parquet\")\n",
    "\n",
    "media_df.printSchema()\n",
    "\n",
    "media_df.summary().show()\n",
    "\n",
    "media_df.createOrReplaceTempView(\"media_df\")"
   ]
  },
  {
   "cell_type": "code",
   "execution_count": 13,
   "id": "49c09569",
   "metadata": {},
   "outputs": [],
   "source": [
    "# Join both data freams \n",
    "features_1min = df.join(media_df, df[\"t_trade_epoch\"] == media_df[\"epoch\"])\\\n",
    ".select( \"time\",\n",
    "        \"open\",\n",
    "        \"high\",\n",
    "        \"low\",\n",
    "        \"close\",\n",
    "        \"volume\",\n",
    "        \"t_trade_epoch\",\n",
    "        \"t_trade_date\",\n",
    "        \"t_trade_hour\",\n",
    "        \"t_trade_minute\",\n",
    "        \"t_trade_day_of_week\",\n",
    "        \"t_trade_open_e\",\n",
    "        \"t_trade_open_h\",\n",
    "        \"t_trade_close_e\",\n",
    "        \"t_trade_close_h\",\n",
    "        \"t_time_diff_between_trade_and_open_in_sec\",\n",
    "        \"t_trade_part\",\n",
    "        \"t_trade_part_open_e\",\n",
    "        \"t_trade_part_open_h\",\n",
    "        \"t_time_diff_between_trade_and_trade_part_open_in_sec\",\n",
    "        \"t_precent_of_time_from_start_of_trade_pase\",\n",
    "        \"t_precent_of_time_from_start_of_trade_day\",\n",
    "        \"p_min_open_price_for_last_3min\",\n",
    "        \"p_avg_open_price_for_last_3min\",\n",
    "        \"p_max_open_price_for_last_3min\",\n",
    "        \"p_stddev_open_price_for_last_3min\",\n",
    "        \"p_min_open_price_for_last_5min\",\n",
    "        \"p_avg_open_price_for_last_5min\",\n",
    "        \"p_max_open_price_for_last_5min\",\n",
    "        \"p_stddev_open_price_for_last_5min\",\n",
    "        \"p_min_open_price_for_last_10min\",\n",
    "        \"p_avg_open_price_for_last_10min\",\n",
    "        \"p_max_open_price_for_last_10min\",\n",
    "        \"p_stddev_open_price_for_last_10min\",\n",
    "        \"p_min_high_price_for_last_3min\",\n",
    "        \"p_avg_high_price_for_last_3min\",\n",
    "        \"p_max_high_price_for_last_3min\",\n",
    "        \"p_stddev_high_price_for_last_3min\",\n",
    "        \"p_min_high_price_for_last_5min\",\n",
    "        \"p_avg_high_price_for_last_5min\",\n",
    "        \"p_max_high_price_for_last_5min\",\n",
    "        \"p_stddev_high_price_for_last_5min\",\n",
    "        \"p_min_high_price_for_last_10min\",\n",
    "        \"p_avg_high_price_for_last_10min\",\n",
    "        \"p_max_high_price_for_last_10min\",\n",
    "        \"p_stddev_high_price_for_last_10min\",\n",
    "        \"p_min_low_price_for_last_3min\",\n",
    "        \"p_avg_low_price_for_last_3min\",\n",
    "        \"p_max_low_price_for_last_3min\",\n",
    "        \"p_stddev_low_price_for_last_3min\",\n",
    "        \"p_min_low_price_for_last_5min\",\n",
    "        \"p_avg_low_price_for_last_5min\",\n",
    "        \"p_max_low_price_for_last_5min\",\n",
    "        \"p_stddev_low_price_for_last_5min\",\n",
    "        \"p_min_low_price_for_last_10min\",\n",
    "        \"p_avg_low_price_for_last_10min\",\n",
    "        \"p_max_low_price_for_last_10min\",\n",
    "        \"p_stddev_low_price_for_last_10min\",\n",
    "        \"p_min_close_price_for_last_3min\",\n",
    "        \"p_avg_close_price_for_last_3min\",\n",
    "        \"p_max_close_price_for_last_3min\",\n",
    "        \"p_stddev_close_price_for_last_3min\",\n",
    "        \"p_min_close_price_for_last_5min\",\n",
    "        \"p_avg_close_price_for_last_5min\",\n",
    "        \"p_max_close_price_for_last_5min\",\n",
    "        \"p_stddev_close_price_for_last_5min\",\n",
    "        \"p_min_close_price_for_last_10min\",\n",
    "        \"p_avg_close_price_for_last_10min\",\n",
    "        \"p_max_close_price_for_last_10min\",\n",
    "        \"p_stddev_close_price_for_last_10min\",\n",
    "        \"p_min_volume_price_for_last_3min\",\n",
    "        \"p_avg_volume_price_for_last_3min\",\n",
    "        \"p_max_volume_price_for_last_3min\",\n",
    "        \"p_stddev_volume_price_for_last_3min\",\n",
    "        \"p_min_volume_price_for_last_5min\",\n",
    "        \"p_avg_volume_price_for_last_5min\",\n",
    "        \"p_max_volume_price_for_last_5min\",\n",
    "        \"p_stddev_volume_price_for_last_5min\",\n",
    "        \"p_min_volume_price_for_last_10min\",\n",
    "        \"p_avg_volume_price_for_last_10min\",\n",
    "        \"p_max_volume_price_for_last_10min\",\n",
    "        \"p_stddev_volume_price_for_last_10min\",\n",
    "        \"snp_media_events_count\",\n",
    "        \"m_avg_snp_media_events_count_last_15min\",\n",
    "        \"m_max_snp_media_events_count_last_15min\",\n",
    "        \"m_stddev_snp_media_events_count_last_15min\",\n",
    "        \"m_sum_snp_media_events_count_last_15min\",\n",
    "        \"m_avg_snp_media_events_count_last_30min\",\n",
    "        \"m_max_snp_media_events_count_last_30min\",\n",
    "        \"m_stddev_snp_media_events_count_last_30min\",\n",
    "        \"m_sum_snp_media_events_count_last_min\",\n",
    "        \"m_avg_snp_media_events_count_last_45min\",\n",
    "        \"m_max_snp_media_events_count_last_45min\",\n",
    "        \"m_stddev_snp_media_events_count_last_45min\",\n",
    "        \"m_sum_snp_media_events_count_last_45min\",\n",
    "        \"m_avg_snp_media_events_count_last_1hour\",\n",
    "        \"m_max_snp_media_events_count_last_1hour\",\n",
    "        \"m_stddev_snp_media_events_count_last_1hour\",\n",
    "        \"m_sum_snp_media_events_count_last_1hour\",\n",
    "        \"m_avg_snp_media_events_count_last_3hour\",\n",
    "        \"m_max_snp_media_events_count_last_3hour\",\n",
    "        \"m_stddev_snp_media_events_count_last_3hour\",\n",
    "        \"m_sum_snp_media_events_count_last_3hour\",\n",
    "        \"m_avg_snp_media_events_count_last_3days\",\n",
    "        \"m_max_snp_media_events_count_last_3days\",\n",
    "        \"m_stddev_snp_media_events_count_last_3days\",\n",
    "        \"m_sum_snp_media_events_count_last_3days\",\n",
    "        \"m_avg_snp_media_events_count_last_7days\",\n",
    "        \"m_max_snp_media_events_count_last_7days\",\n",
    "        \"m_stddev_snp_media_events_count_last_7days\",\n",
    "        \"m_sum_snp_media_events_count_last_7days\",\n",
    "        \"m_avg_snp_media_events_count_last_14days\",\n",
    "        \"m_max_snp_media_events_count_last_14days\",\n",
    "        \"m_stddev_snp_media_events_count_last_14days\",\n",
    "        \"m_sum_snp_media_events_count_last_14days\",\n",
    "        \"m_avg_snp_media_events_count_last_30days\",\n",
    "        \"m_max_snp_media_events_count_last_30days\",\n",
    "        \"m_stddev_snp_media_events_count_last_30days\",\n",
    "        \"m_sum_snp_media_events_count_last_30days\",\n",
    "        \"m_avg_snp_media_events_count_last_60days\",\n",
    "        \"m_max_snp_media_events_count_last_60days\",\n",
    "        \"m_stddev_snp_media_events_count_last_60days\",\n",
    "        \"m_sum_snp_media_events_count_last_60days\") \\\n",
    "# .printSchema()"
   ]
  },
  {
   "cell_type": "code",
   "execution_count": 14,
   "id": "bffb149e",
   "metadata": {},
   "outputs": [
    {
     "name": "stderr",
     "output_type": "stream",
     "text": [
      "                                                                                \r"
     ]
    }
   ],
   "source": [
    "features_1min.write.mode(\"overwrite\").parquet(\"./data/DWH/features_1min\")"
   ]
  },
  {
   "cell_type": "code",
   "execution_count": null,
   "id": "024b9cd6",
   "metadata": {},
   "outputs": [],
   "source": []
  }
 ],
 "metadata": {
  "kernelspec": {
   "display_name": "Python 3 (ipykernel)",
   "language": "python",
   "name": "python3"
  },
  "language_info": {
   "codemirror_mode": {
    "name": "ipython",
    "version": 3
   },
   "file_extension": ".py",
   "mimetype": "text/x-python",
   "name": "python",
   "nbconvert_exporter": "python",
   "pygments_lexer": "ipython3",
   "version": "3.7.16"
  }
 },
 "nbformat": 4,
 "nbformat_minor": 5
}
